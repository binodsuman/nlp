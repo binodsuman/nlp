{
 "cells": [
  {
   "cell_type": "code",
   "execution_count": null,
   "metadata": {},
   "outputs": [],
   "source": [
    "import torch\n",
    "import torch.nn as nn\n",
    "import torchvision.models as models\n",
    "import torchvision.transforms as transforms\n",
    "from PIL import Image"
   ]
  },
  {
   "cell_type": "code",
   "execution_count": null,
   "metadata": {},
   "outputs": [],
   "source": [
    "# Load the pre-trained ResNet model\n",
    "model = models.resnet18(pretrained=True)\n",
    "model = nn.Sequential(*list(model.children())[:-1])  # Remove the last fully connected layer\n",
    "\n",
    "# Set the model in evaluation mode (important when using pre-trained models)\n",
    "model.eval()\n",
    "\n"
   ]
  },
  {
   "cell_type": "code",
   "execution_count": null,
   "metadata": {},
   "outputs": [],
   "source": [
    "# Preprocessing function to transform the image into a tensor\n",
    "def preprocess_image(image_path):\n",
    "    image = Image.open(image_path).convert('RGB')\n",
    "    preprocess = transforms.Compose([\n",
    "        transforms.Resize((224, 224)),\n",
    "        transforms.ToTensor(),\n",
    "        transforms.Normalize(mean=[0.485, 0.456, 0.406], std=[0.229, 0.224, 0.225]),\n",
    "    ])\n",
    "    return preprocess(image).unsqueeze(0)\n",
    "\n",
    "# Function to create image embeddings\n",
    "def create_image_embedding(image_path):\n",
    "    try:\n",
    "        input_tensor = preprocess_image(image_path)\n",
    "        with torch.no_grad():\n",
    "            embeddings = model(input_tensor)\n",
    "        return embeddings.squeeze().numpy()\n",
    "    except Exception as e:\n",
    "        print(\"Error:\", e)\n",
    "        return None"
   ]
  },
  {
   "cell_type": "code",
   "execution_count": null,
   "metadata": {},
   "outputs": [],
   "source": [
    "# Example usage\n",
    "image_path = \"./images/cat1.jpg\"\n",
    "cat1 = create_image_embedding(image_path)\n",
    "\n",
    "# 'embedding' now contains a dense vector representation of the image\n",
    "print(\"Image Embedding Shape:\", cat1.shape)\n",
    "print(\"Image Embedding:\", cat1)\n",
    "\n",
    "\n"
   ]
  },
  {
   "cell_type": "code",
   "execution_count": null,
   "metadata": {},
   "outputs": [],
   "source": [
    "image_path = \"./images/cat2.jpg\"\n",
    "cat2 = create_image_embedding(image_path)\n",
    "\n",
    "# 'embedding' now contains a dense vector representation of the image\n",
    "print(\"Image Embedding Shape:\", cat2.shape)\n",
    "print(\"Image Embedding:\", cat2)\n",
    "\n"
   ]
  },
  {
   "cell_type": "code",
   "execution_count": null,
   "metadata": {},
   "outputs": [],
   "source": [
    "dog1 = create_image_embedding(\"./images/dog1.jpg\")\n",
    "dog2 = create_image_embedding(\"./images/dog2.jpg\")\n",
    "dog3 = create_image_embedding(\"./images/dog3.jpg\")\n",
    "person1 = create_image_embedding(\"./images/person1.jpg\")\n",
    "person2 = create_image_embedding(\"./images/person2.jpg\")"
   ]
  },
  {
   "cell_type": "code",
   "execution_count": null,
   "metadata": {},
   "outputs": [],
   "source": [
    "person1.shape"
   ]
  },
  {
   "cell_type": "code",
   "execution_count": null,
   "metadata": {},
   "outputs": [],
   "source": [
    "#Imports a PyMilvus package:\n",
    "from pymilvus import (\n",
    "    connections,\n",
    "    utility,\n",
    "    FieldSchema,\n",
    "    CollectionSchema,\n",
    "    DataType,\n",
    "    Collection,\n",
    ")"
   ]
  },
  {
   "cell_type": "code",
   "execution_count": null,
   "metadata": {},
   "outputs": [],
   "source": [
    "#Connect to the Milvus\n",
    "connections.connect(\"default\", host=\"localhost\", port=\"19530\")"
   ]
  },
  {
   "cell_type": "code",
   "execution_count": null,
   "metadata": {},
   "outputs": [],
   "source": [
    "#Creates a collection:\n",
    "fields = [\n",
    "    FieldSchema(name=\"pk\", dtype=DataType.INT64, is_primary=True, auto_id=False),\n",
    "    FieldSchema(name=\"words\", dtype=DataType.VARCHAR, max_length=50),\n",
    "    FieldSchema(name=\"embeddings\", dtype=DataType.FLOAT_VECTOR, dim=512)\n",
    "]\n",
    "schema = CollectionSchema(fields, \"Simple Demo for image similar search\")\n",
    "image = Collection(\"image\", schema)"
   ]
  },
  {
   "cell_type": "code",
   "execution_count": null,
   "metadata": {},
   "outputs": [],
   "source": [
    "# Builds indexes on the entities:\n",
    "\n",
    "index = {\n",
    "    \"index_type\": \"IVF_FLAT\",\n",
    "    \"metric_type\": \"L2\",\n",
    "    \"params\": {\"nlist\": 128},\n",
    "}\n",
    "\n",
    "image.create_index(\"embeddings\", index)"
   ]
  },
  {
   "cell_type": "code",
   "execution_count": null,
   "metadata": {},
   "outputs": [],
   "source": [
    "#Insert data in collection\n",
    "data = [\n",
    "    [1,2,3,4,5,6,7],  # field pk\n",
    "    ['cat1','cat2','dog1','dog2','dog3','person1','person2'],  # field words\n",
    "    [cat1, cat2, dog1, dog2, dog3, person1, person2],  # field embeddings\n",
    "]"
   ]
  },
  {
   "cell_type": "code",
   "execution_count": null,
   "metadata": {},
   "outputs": [],
   "source": [
    "image.insert(data)\n",
    "image.flush()\n",
    "image.load()"
   ]
  },
  {
   "cell_type": "code",
   "execution_count": null,
   "metadata": {},
   "outputs": [],
   "source": [
    "search_params = {\"metric_type\": \"L2\"}"
   ]
  },
  {
   "cell_type": "code",
   "execution_count": null,
   "metadata": {},
   "outputs": [],
   "source": [
    "results = image.search(\n",
    "\tdata=[dog1], \n",
    "\tanns_field=\"embeddings\", \n",
    "\tparam=search_params,\n",
    "\tlimit=4, \n",
    "\texpr=None,\n",
    "\t# set the names of the fields you want to retrieve from the search result.\n",
    "\toutput_fields=['words'],\n",
    "\tconsistency_level=\"Strong\"\n",
    ")"
   ]
  },
  {
   "cell_type": "code",
   "execution_count": null,
   "metadata": {},
   "outputs": [],
   "source": [
    "results[0].ids"
   ]
  },
  {
   "cell_type": "code",
   "execution_count": null,
   "metadata": {},
   "outputs": [],
   "source": [
    "results[0].distances"
   ]
  },
  {
   "cell_type": "code",
   "execution_count": null,
   "metadata": {},
   "outputs": [],
   "source": [
    "hit = results[0][3]\n",
    "hit.entity.get('words')"
   ]
  },
  {
   "cell_type": "code",
   "execution_count": null,
   "metadata": {},
   "outputs": [],
   "source": [
    "results[0][0].entity.get('words')"
   ]
  },
  {
   "cell_type": "code",
   "execution_count": null,
   "metadata": {},
   "outputs": [],
   "source": [
    "from PIL import Image"
   ]
  },
  {
   "cell_type": "code",
   "execution_count": null,
   "metadata": {},
   "outputs": [],
   "source": [
    "for i in range(0,len(results[0])):\n",
    "    name = results[0][i].entity.get('words')\n",
    "    print(name)\n",
    "    display(Image.open('./images/'+name+'.jpg'))"
   ]
  },
  {
   "cell_type": "code",
   "execution_count": null,
   "metadata": {},
   "outputs": [],
   "source": [
    "results = image.search(\n",
    "\tdata=[cat1], \n",
    "\tanns_field=\"embeddings\", \n",
    "\tparam=search_params,\n",
    "\tlimit=4, \n",
    "\texpr=None,\n",
    "\t# set the names of the fields you want to retrieve from the search result.\n",
    "\toutput_fields=['words'],\n",
    "\tconsistency_level=\"Strong\"\n",
    ")"
   ]
  },
  {
   "cell_type": "code",
   "execution_count": null,
   "metadata": {},
   "outputs": [],
   "source": [
    "for i in range(0,len(results[0])):\n",
    "    name = results[0][i].entity.get('words')\n",
    "    print(name)\n",
    "    display(Image.open('./images/'+name+'.jpg'))"
   ]
  },
  {
   "cell_type": "code",
   "execution_count": null,
   "metadata": {},
   "outputs": [],
   "source": [
    "Binod1 = create_image_embedding(\"./images/Binod1.jpg\")\n",
    "Binod2 = create_image_embedding(\"./images/Binod2.jpg\")\n",
    "Binod3 = create_image_embedding(\"./images/Binod3.jpg\")\n",
    "Binod4 = create_image_embedding(\"./images/Binod4.jpg\")\n",
    "\n"
   ]
  },
  {
   "cell_type": "code",
   "execution_count": null,
   "metadata": {},
   "outputs": [],
   "source": [
    "Binod1.shape"
   ]
  },
  {
   "cell_type": "code",
   "execution_count": null,
   "metadata": {},
   "outputs": [],
   "source": [
    "#Insert data in collection\n",
    "data = [\n",
    "    [8,9,10,11],  # field pk\n",
    "    ['Binod1','Binod2','Binod3','Binod4'],  # field words\n",
    "    [Binod1,Binod2,Binod3,Binod4],  # field embeddings\n",
    "]"
   ]
  },
  {
   "cell_type": "code",
   "execution_count": null,
   "metadata": {},
   "outputs": [],
   "source": [
    "image.insert(data)\n",
    "image.flush()\n",
    "image.load()"
   ]
  },
  {
   "cell_type": "code",
   "execution_count": null,
   "metadata": {},
   "outputs": [],
   "source": [
    "image.release()"
   ]
  },
  {
   "cell_type": "code",
   "execution_count": null,
   "metadata": {},
   "outputs": [],
   "source": [
    "image.load()"
   ]
  },
  {
   "cell_type": "code",
   "execution_count": null,
   "metadata": {},
   "outputs": [],
   "source": [
    "expr = \"pk in [6,7]\"\n",
    "image.delete(expr)"
   ]
  },
  {
   "cell_type": "code",
   "execution_count": null,
   "metadata": {},
   "outputs": [],
   "source": [
    "results = image.search(\n",
    "\tdata=[Binod2], \n",
    "\tanns_field=\"embeddings\", \n",
    "\tparam=search_params,\n",
    "\tlimit=4, \n",
    "\texpr=None,\n",
    "\t# set the names of the fields you want to retrieve from the search result.\n",
    "\toutput_fields=['words'],\n",
    "\tconsistency_level=\"Strong\"\n",
    ")"
   ]
  },
  {
   "cell_type": "code",
   "execution_count": null,
   "metadata": {},
   "outputs": [],
   "source": [
    "for i in range(0,len(results[0])):\n",
    "    name = results[0][i].entity.get('words')\n",
    "    print(name)\n",
    "    display(Image.open('./images/'+name+'.jpg'))"
   ]
  },
  {
   "cell_type": "code",
   "execution_count": null,
   "metadata": {},
   "outputs": [],
   "source": [
    "harsh1 = create_image_embedding(\"./images/harsh1.jpg\")\n",
    "harsh2 = create_image_embedding(\"./images/harsh2.jpg\")\n",
    "harsh3 = create_image_embedding(\"./images/harsh3.jpg\")\n",
    "harsh4 = create_image_embedding(\"./images/harsh4.jpg\")\n",
    "\n",
    "\n"
   ]
  },
  {
   "cell_type": "code",
   "execution_count": null,
   "metadata": {},
   "outputs": [],
   "source": [
    "#Insert data in collection\n",
    "data = [\n",
    "    [12,13,14,14],  # field pk\n",
    "    ['harsh1','harsh2','harsh3','harsh4'],  # field words\n",
    "    [harsh1,harsh2,harsh3,harsh4],  # field embeddings\n",
    "]\n",
    "image.insert(data)\n",
    "image.flush()\n",
    "image.load()"
   ]
  },
  {
   "cell_type": "code",
   "execution_count": null,
   "metadata": {},
   "outputs": [],
   "source": [
    "results = image.search(\n",
    "\tdata=[harsh2], \n",
    "\tanns_field=\"embeddings\", \n",
    "\tparam=search_params,\n",
    "\tlimit=4, \n",
    "\texpr=None,\n",
    "\t# set the names of the fields you want to retrieve from the search result.\n",
    "\toutput_fields=['words'],\n",
    "\tconsistency_level=\"Strong\"\n",
    ")"
   ]
  },
  {
   "cell_type": "code",
   "execution_count": null,
   "metadata": {},
   "outputs": [],
   "source": [
    "for i in range(0,len(results[0])):\n",
    "    name = results[0][i].entity.get('words')\n",
    "    print(name)\n",
    "    display(Image.open('./images/'+name+'.jpg'))"
   ]
  },
  {
   "cell_type": "code",
   "execution_count": null,
   "metadata": {},
   "outputs": [],
   "source": []
  },
  {
   "cell_type": "code",
   "execution_count": null,
   "metadata": {},
   "outputs": [],
   "source": []
  },
  {
   "cell_type": "code",
   "execution_count": null,
   "metadata": {},
   "outputs": [],
   "source": []
  },
  {
   "cell_type": "code",
   "execution_count": null,
   "metadata": {},
   "outputs": [],
   "source": []
  },
  {
   "cell_type": "code",
   "execution_count": null,
   "metadata": {},
   "outputs": [],
   "source": []
  }
 ],
 "metadata": {
  "kernelspec": {
   "display_name": "Python 3",
   "language": "python",
   "name": "python3"
  },
  "language_info": {
   "codemirror_mode": {
    "name": "ipython",
    "version": 3
   },
   "file_extension": ".py",
   "mimetype": "text/x-python",
   "name": "python",
   "nbconvert_exporter": "python",
   "pygments_lexer": "ipython3",
   "version": "3.7.4"
  }
 },
 "nbformat": 4,
 "nbformat_minor": 2
}
