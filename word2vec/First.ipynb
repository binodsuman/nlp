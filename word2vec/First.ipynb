{
 "cells": [
  {
   "cell_type": "code",
   "execution_count": 2,
   "metadata": {},
   "outputs": [
    {
     "name": "stdout",
     "output_type": "stream",
     "text": [
      "Collecting gensim\n",
      "  Downloading gensim-4.2.0-cp37-cp37m-macosx_10_9_x86_64.whl (24.0 MB)\n",
      "\u001b[K     |████████████████████████████████| 24.0 MB 162 kB/s eta 0:00:01\n",
      "\u001b[?25hRequirement already satisfied: scipy>=0.18.1 in /Users/binod/Documents/software/anaconda/anaconda3/lib/python3.7/site-packages (from gensim) (1.4.1)\n",
      "Requirement already satisfied: numpy>=1.17.0 in /Users/binod/Documents/software/anaconda/anaconda3/lib/python3.7/site-packages (from gensim) (1.19.5)\n",
      "Collecting smart-open>=1.8.1\n",
      "  Downloading smart_open-6.3.0-py3-none-any.whl (56 kB)\n",
      "\u001b[K     |████████████████████████████████| 56 kB 7.2 MB/s  eta 0:00:01\n",
      "\u001b[?25hInstalling collected packages: smart-open, gensim\n",
      "Successfully installed gensim-4.2.0 smart-open-6.3.0\n",
      "\u001b[33mWARNING: You are using pip version 20.3.3; however, version 23.1.2 is available.\n",
      "You should consider upgrading via the '/Users/binod/Documents/software/anaconda/anaconda3/bin/python -m pip install --upgrade pip' command.\u001b[0m\n"
     ]
    }
   ],
   "source": [
    "!pip install gensim"
   ]
  },
  {
   "cell_type": "code",
   "execution_count": 12,
   "metadata": {},
   "outputs": [
    {
     "name": "stdout",
     "output_type": "stream",
     "text": [
      "[ 0.00180236  0.0070445   0.00294682 -0.00697852  0.00771143 -0.00598897\n",
      "  0.00899917  0.00295764 -0.00401764 -0.00468988 -0.00441809 -0.00614685\n",
      "  0.00937868 -0.00264922  0.00777132 -0.00967938  0.0021089  -0.00123303\n",
      "  0.00754435 -0.00905795  0.0074383  -0.00510468 -0.00601354 -0.00565197\n",
      " -0.00338063 -0.00340963 -0.0031977  -0.00749126  0.00070665 -0.0005742\n",
      " -0.00168497  0.00375882 -0.00761958 -0.00322376  0.00515567  0.00854295\n",
      " -0.00981236  0.00719641  0.00530894 -0.00387971  0.00857911 -0.00922446\n",
      "  0.00724713  0.00536551  0.00129539 -0.0052019  -0.00418063 -0.00335714\n",
      "  0.00161171  0.00158668  0.00738628  0.00997789  0.00887204 -0.00400711\n",
      "  0.00964536 -0.00062707  0.00486299  0.00254884 -0.00063022  0.00366949\n",
      " -0.00531753 -0.00575809 -0.00760732  0.00190855  0.00652655  0.0008839\n",
      "  0.00125512  0.00317345  0.00813542 -0.00770028  0.00226006 -0.00747441\n",
      "  0.00371087  0.00950984  0.00752012  0.00642713  0.00801662  0.00655\n",
      "  0.00685926  0.00867938 -0.00495013  0.00921243  0.00505762 -0.00213058\n",
      "  0.00848791  0.00508088  0.00965029  0.00283464  0.0098693   0.00119698\n",
      "  0.00913122  0.00358558  0.00656293 -0.00360984  0.00679128  0.00724293\n",
      " -0.00213445 -0.00185989  0.00361224 -0.00703661]\n"
     ]
    }
   ],
   "source": [
    "from gensim.models import Word2Vec\n",
    "\n",
    "# Define the example sentences\n",
    "sentences = [\n",
    "    ['The', 'student', 'studied', 'hard', 'for', 'the', 'exam', 'hoping', 'to', 'get', 'a', 'good', 'grade.'],\n",
    "    ['The', 'athlete', 'trained', 'intensively', 'for', 'the', 'competition', 'hoping', 'to', 'win', 'a', 'medal.']\n",
    "]\n",
    "\n",
    "# Train the Word2Vec model on the example sentences\n",
    "model = Word2Vec(sentences, min_count=1)\n",
    "\n",
    "# Get the embedding for a word\n",
    "embedding = model.wv['competition']\n",
    "print(embedding)"
   ]
  },
  {
   "cell_type": "code",
   "execution_count": 13,
   "metadata": {},
   "outputs": [
    {
     "name": "stdout",
     "output_type": "stream",
     "text": [
      "[-0.00515624 -0.00666834 -0.00777684  0.00831073 -0.00198234 -0.00685496\n",
      " -0.00415439  0.00514413 -0.00286914 -0.00374966  0.00162143 -0.00277629\n",
      " -0.00158436  0.00107449 -0.00297795  0.00851928  0.00391094 -0.00995886\n",
      "  0.0062596  -0.00675426  0.00076943  0.00440423 -0.00510338 -0.00211067\n",
      "  0.00809548 -0.00424379 -0.00763626  0.00925791 -0.0021555  -0.00471943\n",
      "  0.0085708   0.00428334  0.00432484  0.00928451 -0.00845308  0.00525532\n",
      "  0.00203935  0.00418828  0.0016979   0.00446413  0.00448629  0.00610452\n",
      " -0.0032021  -0.00457573 -0.00042652  0.00253373 -0.00326317  0.00605772\n",
      "  0.00415413  0.00776459  0.00256927  0.00811668 -0.00138721  0.00807793\n",
      "  0.00371701 -0.00804733 -0.00393362 -0.00247188  0.00489304 -0.00087216\n",
      " -0.00283091  0.00783371  0.0093229  -0.00161493 -0.00515925 -0.00470176\n",
      " -0.00484605 -0.00960283  0.00137202 -0.00422492  0.00252671  0.00561448\n",
      " -0.00406591 -0.00959658  0.0015467  -0.00670012  0.00249517 -0.00378063\n",
      "  0.00707842  0.00064022  0.00356094 -0.00273913 -0.00171055  0.00765279\n",
      "  0.00140768 -0.00585045 -0.0078345   0.00123269  0.00645463  0.00555635\n",
      " -0.00897705  0.00859216  0.00404698  0.0074696   0.00974633 -0.00728958\n",
      " -0.00903996  0.005836    0.00939121  0.00350693]\n"
     ]
    }
   ],
   "source": [
    "embedding = model.wv['exam']\n",
    "print(embedding)"
   ]
  },
  {
   "cell_type": "code",
   "execution_count": 16,
   "metadata": {},
   "outputs": [
    {
     "name": "stdout",
     "output_type": "stream",
     "text": [
      "Cosine similarity between 'exam' and 'competition':  -0.1604951\n"
     ]
    }
   ],
   "source": [
    "from sklearn.metrics.pairwise import cosine_similarity\n",
    "\n",
    "# Get the embeddings for the words\n",
    "embedding_exam = model.wv['exam']\n",
    "embedding_competition = model.wv['competition']\n",
    "\n",
    "# Calculate the cosine similarity between the embeddings\n",
    "similarity = cosine_similarity(embedding_exam.reshape(1,-1), embedding_competition.reshape(1,-1))[0][0]\n",
    "\n",
    "print(\"Cosine similarity between 'exam' and 'competition': \", similarity)"
   ]
  },
  {
   "cell_type": "code",
   "execution_count": 10,
   "metadata": {},
   "outputs": [
    {
     "name": "stdout",
     "output_type": "stream",
     "text": [
      "Cosine similarity between 'good' and 'competition':  -0.06755786\n"
     ]
    }
   ],
   "source": [
    "embedding_good = model.wv['good']\n",
    "embedding_competition = model.wv['competition,']\n",
    "\n",
    "# Calculate the cosine similarity between the embeddings\n",
    "similarity = cosine_similarity(embedding_good.reshape(1,-1), embedding_competition.reshape(1,-1))[0][0]\n",
    "\n",
    "print(\"Cosine similarity between 'good' and 'competition': \", similarity)"
   ]
  },
  {
   "cell_type": "code",
   "execution_count": 17,
   "metadata": {},
   "outputs": [
    {
     "name": "stdout",
     "output_type": "stream",
     "text": [
      "Embedding for 'associate':  [ 9.43565974e-05  3.07809259e-03 -6.81398669e-03 -1.37571397e-03\n",
      "  7.66780786e-03  7.34582962e-03 -3.67358769e-03  2.64151767e-03\n",
      " -8.31831247e-03  6.20506238e-03 -4.63720178e-03 -3.16294748e-03\n",
      "  9.30980407e-03  8.73994839e-04  7.49138603e-03 -6.07313123e-03\n",
      "  5.16306050e-03  9.92448628e-03 -8.45708698e-03 -5.13794459e-03\n",
      " -7.06375204e-03 -4.86259907e-03 -3.77597753e-03 -8.53504799e-03\n",
      "  7.95703568e-03 -4.84226085e-03  8.42183363e-03  5.26078837e-03\n",
      " -6.54978817e-03  3.95854097e-03  5.47226798e-03 -7.42434431e-03\n",
      " -7.40466034e-03 -2.47555645e-03 -8.62565450e-03 -1.58193870e-03\n",
      " -4.05855593e-04  3.29975225e-03  1.44118664e-03 -8.83197703e-04\n",
      " -5.59333013e-03  1.72885100e-03 -8.95387609e-04  6.79325871e-03\n",
      "  3.97370523e-03  4.52982541e-03  1.43258390e-03 -2.70141521e-03\n",
      " -4.36654501e-03 -1.03291275e-03  1.43696798e-03 -2.64721527e-03\n",
      " -7.07616564e-03 -7.80456932e-03 -9.12324898e-03 -5.93612064e-03\n",
      " -1.84704526e-03 -4.32538474e-03 -6.46216236e-03 -3.71742272e-03\n",
      "  4.28987667e-03 -3.73871904e-03  8.37986358e-03  1.53553765e-03\n",
      " -7.24169286e-03  9.43456031e-03  7.63162551e-03  5.49327256e-03\n",
      " -6.84911339e-03  5.82181010e-03  4.00850782e-03  5.18568093e-03\n",
      "  4.25418932e-03  1.94096065e-03 -3.16777034e-03  8.35406408e-03\n",
      "  9.61257610e-03  3.79445450e-03 -2.83687003e-03  7.47940794e-06\n",
      "  1.22005551e-03 -8.46012682e-03 -8.22372735e-03 -2.29807178e-04\n",
      "  1.23752409e-03 -5.74367959e-03 -4.72252257e-03 -7.34575000e-03\n",
      "  8.32749344e-03  1.20207456e-04 -4.50853771e-03  5.70286810e-03\n",
      "  9.17974021e-03 -4.10013972e-03  7.96367973e-03  5.37487026e-03\n",
      "  5.88167645e-03  5.11245453e-04  8.21187161e-03 -7.01669976e-03]\n",
      "Embedding for 'employee':  [ 7.0920279e-03 -1.5651018e-03  7.9464214e-03 -9.4886906e-03\n",
      " -8.0255326e-03 -6.6419304e-03 -3.9994046e-03  4.9942578e-03\n",
      " -3.8143198e-03 -8.3251651e-03  8.4184576e-03 -3.7471526e-03\n",
      "  8.6141583e-03 -4.8929062e-03  3.9221998e-03  4.9188230e-03\n",
      "  2.4025098e-03 -2.8157239e-03  2.8472231e-03 -8.2621370e-03\n",
      " -2.7630238e-03 -2.5944011e-03  7.2547067e-03 -3.4603337e-03\n",
      " -6.6018114e-03  4.3417900e-03 -4.7355055e-04 -3.5996966e-03\n",
      "  6.8830373e-03  3.8711498e-03 -3.8949503e-03  7.7304139e-04\n",
      "  9.1400705e-03  7.7548283e-03  6.3598123e-03  4.6725809e-03\n",
      "  2.3834347e-03 -1.8440328e-03 -6.3766968e-03 -3.0419682e-04\n",
      " -1.5590128e-03 -5.7587161e-04 -6.2565198e-03  7.4341660e-03\n",
      " -6.5878746e-03 -7.2361021e-03 -2.7635151e-03 -1.5236569e-03\n",
      " -7.6385573e-03  6.9757056e-04 -5.3222254e-03 -1.2798251e-03\n",
      " -7.3741698e-03  1.9568016e-03  3.2663061e-03 -2.7991704e-05\n",
      " -5.4478049e-03 -1.7282374e-03  7.0814006e-03  3.7301159e-03\n",
      " -8.8828020e-03 -3.4127198e-03  2.3626275e-03  2.1394528e-03\n",
      " -9.4669554e-03  4.5765340e-03 -8.6595817e-03 -7.3860032e-03\n",
      "  3.4807101e-03 -3.4785902e-03  3.5685939e-03  8.8963313e-03\n",
      " -3.5764703e-03  9.3289223e-03  1.7174067e-03  9.8459916e-03\n",
      "  5.7099187e-03 -9.1412440e-03 -3.3310954e-03  6.5364065e-03\n",
      "  5.6017805e-03  8.7049026e-03  6.9247638e-03  8.0413697e-03\n",
      " -9.8246140e-03  4.2971191e-03 -5.0201672e-03  3.5114402e-03\n",
      "  6.0546729e-03  4.3899864e-03  7.5105322e-03  1.5000337e-03\n",
      " -1.2634236e-03  5.7695517e-03 -5.6334650e-03  3.9754657e-05\n",
      "  9.4645089e-03 -5.4871752e-03  3.8122013e-03 -8.1139952e-03]\n"
     ]
    }
   ],
   "source": [
    "from gensim.models import Word2Vec\n",
    "\n",
    "# Define the example sentences\n",
    "sentences = [\n",
    "    \"The company is looking for a new associate or employee to fill the position.\",\n",
    "    \"As an associate or employee, you will be responsible for meeting the company's goals.\"\n",
    "]\n",
    "\n",
    "# Split the sentences into lists of words\n",
    "word_lists = [sentence.lower().split() for sentence in sentences]\n",
    "\n",
    "# Train the Word2Vec model on the example sentences\n",
    "model = Word2Vec(word_lists, min_count=1)\n",
    "\n",
    "# Get the embeddings for \"associate\" and \"employee\"\n",
    "embedding_associate = model.wv['associate']\n",
    "embedding_employee = model.wv['employee']\n",
    "\n",
    "# Print the embeddings\n",
    "print(\"Embedding for 'associate': \", embedding_associate)\n",
    "print(\"Embedding for 'employee': \", embedding_employee)\n"
   ]
  },
  {
   "cell_type": "code",
   "execution_count": 18,
   "metadata": {},
   "outputs": [
    {
     "name": "stdout",
     "output_type": "stream",
     "text": [
      "Cosine similarity between 'good' and 'competition':  -0.10175142\n"
     ]
    }
   ],
   "source": [
    "# Calculate the cosine similarity between the embeddings\n",
    "similarity = cosine_similarity(embedding_associate.reshape(1,-1), embedding_employee.reshape(1,-1))[0][0]\n",
    "\n",
    "print(\"Cosine similarity between 'good' and 'competition': \", similarity)"
   ]
  },
  {
   "cell_type": "code",
   "execution_count": 4,
   "metadata": {},
   "outputs": [
    {
     "name": "stdout",
     "output_type": "stream",
     "text": [
      "Cosine similarity :  0.046577558\n"
     ]
    }
   ],
   "source": [
    "# With your own model\n",
    "\n",
    "from gensim.models import Word2Vec\n",
    "\n",
    "# Define the example sentences\n",
    "sentences = [\n",
    "    \"kids like toys\",\n",
    "    \"toddler like the toys\"\n",
    "]\n",
    "\n",
    "sentences = [\n",
    "\"The puppy happily chased after the ball in the park, wagging its tail\"\n",
    "\"The dog eagerly fetched the frisbee and brought it back to its owner\"\n",
    "]\n",
    "\n",
    "# Split the sentences into lists of words\n",
    "word_lists = [sentence.lower().split() for sentence in sentences]\n",
    "\n",
    "# Train the Word2Vec model on the example sentences\n",
    "model = Word2Vec(word_lists, min_count=1)\n",
    "\n",
    "# Get the embeddings for \"associate\" and \"employee\"\n",
    "embedding_1 = model.wv['puppy']\n",
    "embedding_2 = model.wv['dog']\n",
    "\n",
    "# Print the embeddings\n",
    "# print(\"Embedding for 'associate': \", embedding_kids)\n",
    "# print(\"Embedding for 'employee': \", embedding_toddler)\n",
    "\n",
    "similarity = cosine_similarity(embedding_1.reshape(1,-1), embedding_2.reshape(1,-1))[0][0]\n",
    "\n",
    "print(\"Cosine similarity : \", similarity)\n"
   ]
  },
  {
   "cell_type": "code",
   "execution_count": null,
   "metadata": {},
   "outputs": [],
   "source": [
    "model.most_s"
   ]
  },
  {
   "cell_type": "code",
   "execution_count": 28,
   "metadata": {},
   "outputs": [
    {
     "name": "stdout",
     "output_type": "stream",
     "text": [
      "Requirement already satisfied: spacy in /Users/binod/Documents/software/anaconda/anaconda3/lib/python3.7/site-packages (2.2.3)\n",
      "Requirement already satisfied: cymem<2.1.0,>=2.0.2 in /Users/binod/Documents/software/anaconda/anaconda3/lib/python3.7/site-packages (from spacy) (2.0.3)\n",
      "Requirement already satisfied: preshed<3.1.0,>=3.0.2 in /Users/binod/Documents/software/anaconda/anaconda3/lib/python3.7/site-packages (from spacy) (3.0.2)\n",
      "Requirement already satisfied: catalogue<1.1.0,>=0.0.7 in /Users/binod/Documents/software/anaconda/anaconda3/lib/python3.7/site-packages (from spacy) (1.0.0)\n",
      "Requirement already satisfied: blis<0.5.0,>=0.4.0 in /Users/binod/Documents/software/anaconda/anaconda3/lib/python3.7/site-packages (from spacy) (0.4.1)\n",
      "Requirement already satisfied: setuptools in /Users/binod/Documents/software/anaconda/anaconda3/lib/python3.7/site-packages (from spacy) (41.4.0)\n",
      "Requirement already satisfied: requests<3.0.0,>=2.13.0 in /Users/binod/Documents/software/anaconda/anaconda3/lib/python3.7/site-packages (from spacy) (2.23.0)\n",
      "Requirement already satisfied: murmurhash<1.1.0,>=0.28.0 in /Users/binod/Documents/software/anaconda/anaconda3/lib/python3.7/site-packages (from spacy) (1.0.2)\n",
      "Requirement already satisfied: numpy>=1.15.0 in /Users/binod/Documents/software/anaconda/anaconda3/lib/python3.7/site-packages (from spacy) (1.19.5)\n",
      "Requirement already satisfied: plac<1.2.0,>=0.9.6 in /Users/binod/Documents/software/anaconda/anaconda3/lib/python3.7/site-packages (from spacy) (1.1.3)\n",
      "Requirement already satisfied: thinc<7.4.0,>=7.3.0 in /Users/binod/Documents/software/anaconda/anaconda3/lib/python3.7/site-packages (from spacy) (7.3.1)\n",
      "Requirement already satisfied: srsly<1.1.0,>=0.1.0 in /Users/binod/Documents/software/anaconda/anaconda3/lib/python3.7/site-packages (from spacy) (1.0.1)\n",
      "Requirement already satisfied: wasabi<1.1.0,>=0.4.0 in /Users/binod/Documents/software/anaconda/anaconda3/lib/python3.7/site-packages (from spacy) (0.6.0)\n",
      "Requirement already satisfied: importlib-metadata>=0.20 in /Users/binod/Documents/software/anaconda/anaconda3/lib/python3.7/site-packages (from catalogue<1.1.0,>=0.0.7->spacy) (0.23)\n",
      "Requirement already satisfied: zipp>=0.5 in /Users/binod/Documents/software/anaconda/anaconda3/lib/python3.7/site-packages (from importlib-metadata>=0.20->catalogue<1.1.0,>=0.0.7->spacy) (0.6.0)\n",
      "Requirement already satisfied: idna<3,>=2.5 in /Users/binod/Documents/software/anaconda/anaconda3/lib/python3.7/site-packages (from requests<3.0.0,>=2.13.0->spacy) (2.8)\n",
      "Requirement already satisfied: chardet<4,>=3.0.2 in /Users/binod/Documents/software/anaconda/anaconda3/lib/python3.7/site-packages (from requests<3.0.0,>=2.13.0->spacy) (3.0.4)\n",
      "Requirement already satisfied: certifi>=2017.4.17 in /Users/binod/Documents/software/anaconda/anaconda3/lib/python3.7/site-packages (from requests<3.0.0,>=2.13.0->spacy) (2019.9.11)\n",
      "Requirement already satisfied: urllib3!=1.25.0,!=1.25.1,<1.26,>=1.21.1 in /Users/binod/Documents/software/anaconda/anaconda3/lib/python3.7/site-packages (from requests<3.0.0,>=2.13.0->spacy) (1.25.11)\n",
      "Requirement already satisfied: tqdm<5.0.0,>=4.10.0 in /Users/binod/Documents/software/anaconda/anaconda3/lib/python3.7/site-packages (from thinc<7.4.0,>=7.3.0->spacy) (4.54.1)\n",
      "Requirement already satisfied: more-itertools in /Users/binod/Documents/software/anaconda/anaconda3/lib/python3.7/site-packages (from zipp>=0.5->importlib-metadata>=0.20->catalogue<1.1.0,>=0.0.7->spacy) (7.2.0)\n",
      "\u001b[33mWARNING: You are using pip version 20.3.3; however, version 23.1.2 is available.\n",
      "You should consider upgrading via the '/Users/binod/Documents/software/anaconda/anaconda3/bin/python -m pip install --upgrade pip' command.\u001b[0m\n",
      "Note: you may need to restart the kernel to use updated packages.\n"
     ]
    }
   ],
   "source": [
    "pip install spacy\n"
   ]
  },
  {
   "cell_type": "code",
   "execution_count": 30,
   "metadata": {},
   "outputs": [
    {
     "name": "stdout",
     "output_type": "stream",
     "text": [
      "Collecting en_core_web_md==2.2.5\n",
      "  Downloading https://github.com/explosion/spacy-models/releases/download/en_core_web_md-2.2.5/en_core_web_md-2.2.5.tar.gz (96.4 MB)\n",
      "\u001b[K     |████████████████████████████████| 96.4 MB 4.7 MB/s eta 0:00:012    |██████████████████▎             | 55.1 MB 9.7 MB/s eta 0:00:05\n",
      "\u001b[?25hRequirement already satisfied: spacy>=2.2.2 in /Users/binod/Documents/software/anaconda/anaconda3/lib/python3.7/site-packages (from en_core_web_md==2.2.5) (2.2.3)\n",
      "Requirement already satisfied: wasabi<1.1.0,>=0.4.0 in /Users/binod/Documents/software/anaconda/anaconda3/lib/python3.7/site-packages (from spacy>=2.2.2->en_core_web_md==2.2.5) (0.6.0)\n",
      "Requirement already satisfied: catalogue<1.1.0,>=0.0.7 in /Users/binod/Documents/software/anaconda/anaconda3/lib/python3.7/site-packages (from spacy>=2.2.2->en_core_web_md==2.2.5) (1.0.0)\n",
      "Requirement already satisfied: numpy>=1.15.0 in /Users/binod/Documents/software/anaconda/anaconda3/lib/python3.7/site-packages (from spacy>=2.2.2->en_core_web_md==2.2.5) (1.19.5)\n",
      "Requirement already satisfied: srsly<1.1.0,>=0.1.0 in /Users/binod/Documents/software/anaconda/anaconda3/lib/python3.7/site-packages (from spacy>=2.2.2->en_core_web_md==2.2.5) (1.0.1)\n",
      "Requirement already satisfied: setuptools in /Users/binod/Documents/software/anaconda/anaconda3/lib/python3.7/site-packages (from spacy>=2.2.2->en_core_web_md==2.2.5) (41.4.0)\n",
      "Requirement already satisfied: cymem<2.1.0,>=2.0.2 in /Users/binod/Documents/software/anaconda/anaconda3/lib/python3.7/site-packages (from spacy>=2.2.2->en_core_web_md==2.2.5) (2.0.3)\n",
      "Requirement already satisfied: preshed<3.1.0,>=3.0.2 in /Users/binod/Documents/software/anaconda/anaconda3/lib/python3.7/site-packages (from spacy>=2.2.2->en_core_web_md==2.2.5) (3.0.2)\n",
      "Requirement already satisfied: plac<1.2.0,>=0.9.6 in /Users/binod/Documents/software/anaconda/anaconda3/lib/python3.7/site-packages (from spacy>=2.2.2->en_core_web_md==2.2.5) (1.1.3)\n",
      "Requirement already satisfied: blis<0.5.0,>=0.4.0 in /Users/binod/Documents/software/anaconda/anaconda3/lib/python3.7/site-packages (from spacy>=2.2.2->en_core_web_md==2.2.5) (0.4.1)\n",
      "Requirement already satisfied: murmurhash<1.1.0,>=0.28.0 in /Users/binod/Documents/software/anaconda/anaconda3/lib/python3.7/site-packages (from spacy>=2.2.2->en_core_web_md==2.2.5) (1.0.2)\n",
      "Requirement already satisfied: requests<3.0.0,>=2.13.0 in /Users/binod/Documents/software/anaconda/anaconda3/lib/python3.7/site-packages (from spacy>=2.2.2->en_core_web_md==2.2.5) (2.23.0)\n",
      "Requirement already satisfied: thinc<7.4.0,>=7.3.0 in /Users/binod/Documents/software/anaconda/anaconda3/lib/python3.7/site-packages (from spacy>=2.2.2->en_core_web_md==2.2.5) (7.3.1)\n",
      "Requirement already satisfied: importlib-metadata>=0.20 in /Users/binod/Documents/software/anaconda/anaconda3/lib/python3.7/site-packages (from catalogue<1.1.0,>=0.0.7->spacy>=2.2.2->en_core_web_md==2.2.5) (0.23)\n",
      "Requirement already satisfied: zipp>=0.5 in /Users/binod/Documents/software/anaconda/anaconda3/lib/python3.7/site-packages (from importlib-metadata>=0.20->catalogue<1.1.0,>=0.0.7->spacy>=2.2.2->en_core_web_md==2.2.5) (0.6.0)\n",
      "Requirement already satisfied: certifi>=2017.4.17 in /Users/binod/Documents/software/anaconda/anaconda3/lib/python3.7/site-packages (from requests<3.0.0,>=2.13.0->spacy>=2.2.2->en_core_web_md==2.2.5) (2019.9.11)\n",
      "Requirement already satisfied: chardet<4,>=3.0.2 in /Users/binod/Documents/software/anaconda/anaconda3/lib/python3.7/site-packages (from requests<3.0.0,>=2.13.0->spacy>=2.2.2->en_core_web_md==2.2.5) (3.0.4)\n",
      "Requirement already satisfied: idna<3,>=2.5 in /Users/binod/Documents/software/anaconda/anaconda3/lib/python3.7/site-packages (from requests<3.0.0,>=2.13.0->spacy>=2.2.2->en_core_web_md==2.2.5) (2.8)\n",
      "Requirement already satisfied: urllib3!=1.25.0,!=1.25.1,<1.26,>=1.21.1 in /Users/binod/Documents/software/anaconda/anaconda3/lib/python3.7/site-packages (from requests<3.0.0,>=2.13.0->spacy>=2.2.2->en_core_web_md==2.2.5) (1.25.11)\n",
      "Requirement already satisfied: tqdm<5.0.0,>=4.10.0 in /Users/binod/Documents/software/anaconda/anaconda3/lib/python3.7/site-packages (from thinc<7.4.0,>=7.3.0->spacy>=2.2.2->en_core_web_md==2.2.5) (4.54.1)\n",
      "Requirement already satisfied: more-itertools in /Users/binod/Documents/software/anaconda/anaconda3/lib/python3.7/site-packages (from zipp>=0.5->importlib-metadata>=0.20->catalogue<1.1.0,>=0.0.7->spacy>=2.2.2->en_core_web_md==2.2.5) (7.2.0)\n",
      "\u001b[33mWARNING: You are using pip version 20.3.3; however, version 23.1.2 is available.\n",
      "You should consider upgrading via the '/Users/binod/Documents/software/anaconda/anaconda3/bin/python -m pip install --upgrade pip' command.\u001b[0m\n",
      "\u001b[38;5;2m✔ Download and installation successful\u001b[0m\n",
      "You can now load the model via spacy.load('en_core_web_md')\n"
     ]
    }
   ],
   "source": [
    "!python -m spacy download en_core_web_md"
   ]
  },
  {
   "cell_type": "code",
   "execution_count": 2,
   "metadata": {},
   "outputs": [
    {
     "name": "stdout",
     "output_type": "stream",
     "text": [
      "Cosine similarity :  0.85852134\n"
     ]
    }
   ],
   "source": [
    "# with pre-trained model\n",
    "\n",
    "#If the model is not installed, you can install it using pip:\n",
    "#!pip install spacy\n",
    "#!python -m spacy download en_core_web_md\n",
    "from sklearn.metrics.pairwise import cosine_similarity\n",
    "\n",
    "\n",
    "import spacy\n",
    "\n",
    "\n",
    "#from spacy.util import get_package_path\n",
    "#model_path = get_package_path(\"en_core_web_md\")\n",
    "#nlp = spacy.load(model_path)\n",
    "\n",
    "\n",
    "# Load the pre-trained model\n",
    "nlp = spacy.load(\"en_core_web_md\")\n",
    "\n",
    "# Get the word embeddings for \"kids\" and \"toddler\"\n",
    "embedding_1 = nlp(\"puppy\")[0].vector\n",
    "embedding_2 = nlp(\"dog\")[0].vector\n",
    "\n",
    "# Print the word embeddings\n",
    "#print(\"Word embedding for 'kids':\", kids_embedding)\n",
    "#print(\"Word embedding for 'toddler':\", toddler_embedding)\n",
    "\n",
    "similarity = cosine_similarity(embedding_1.reshape(1,-1), embedding_2.reshape(1,-1))[0][0]\n",
    "\n",
    "print(\"Cosine similarity : \", similarity)\n",
    "\n"
   ]
  },
  {
   "cell_type": "code",
   "execution_count": 3,
   "metadata": {},
   "outputs": [
    {
     "name": "stdout",
     "output_type": "stream",
     "text": [
      "Cosine similarity :  0.6678118\n"
     ]
    }
   ],
   "source": [
    "embedding_1 = nlp(\"toddler\")[0].vector\n",
    "embedding_2 = nlp(\"kid\")[0].vector\n",
    "\n",
    "# Print the word embeddings\n",
    "#print(\"Word embedding for 'kids':\", kids_embedding)\n",
    "#print(\"Word embedding for 'toddler':\", toddler_embedding)\n",
    "\n",
    "similarity = cosine_similarity(embedding_1.reshape(1,-1), embedding_2.reshape(1,-1))[0][0]\n",
    "\n",
    "print(\"Cosine similarity : \", similarity)\n",
    "\n"
   ]
  },
  {
   "cell_type": "code",
   "execution_count": 10,
   "metadata": {},
   "outputs": [
    {
     "name": "stdout",
     "output_type": "stream",
     "text": [
      "kings 0.7138045430183411\n",
      "queen 0.6510956883430481\n",
      "monarch 0.6413194537162781\n",
      "crown_prince 0.6204220056533813\n",
      "prince 0.6159993410110474\n",
      "sultan 0.5864824056625366\n",
      "ruler 0.5797567367553711\n",
      "princes 0.5646552443504333\n",
      "Prince_Paras 0.5432944297790527\n",
      "throne 0.5422105193138123\n"
     ]
    }
   ],
   "source": [
    "import gensim.downloader as api\n",
    "\n",
    "# Load a pre-trained Word2Vec model using the Gensim downloader\n",
    "model = api.load(\"word2vec-google-news-300\")\n",
    "\n",
    "# Find the words most similar to a given word\n",
    "similar_words = model.most_similar(\"king\")\n",
    "\n",
    "# Print the top 10 most similar words and their cosine similarity scores\n",
    "for word, score in similar_words[:10]:\n",
    "    print(word, score)\n"
   ]
  },
  {
   "cell_type": "code",
   "execution_count": 12,
   "metadata": {},
   "outputs": [],
   "source": [
    "# king - man + woman = queen\n",
    "king = model['king']\n",
    "man = model['man']\n",
    "woman = model['woman']"
   ]
  },
  {
   "cell_type": "code",
   "execution_count": 14,
   "metadata": {},
   "outputs": [],
   "source": [
    "result = king - man + woman"
   ]
  },
  {
   "cell_type": "code",
   "execution_count": 15,
   "metadata": {},
   "outputs": [],
   "source": [
    "queen = model['queen']"
   ]
  },
  {
   "cell_type": "code",
   "execution_count": 16,
   "metadata": {},
   "outputs": [
    {
     "name": "stdout",
     "output_type": "stream",
     "text": [
      "Cosine similarity :  0.73005176\n"
     ]
    }
   ],
   "source": [
    "similarity = cosine_similarity(result.reshape(1,-1), queen.reshape(1,-1))[0][0]\n",
    "\n",
    "print(\"Cosine similarity : \", similarity)"
   ]
  },
  {
   "cell_type": "code",
   "execution_count": 23,
   "metadata": {},
   "outputs": [
    {
     "data": {
      "text/plain": [
       "[('queen', 0.7118193507194519),\n",
       " ('monarch', 0.6189674139022827),\n",
       " ('princess', 0.5902431011199951),\n",
       " ('crown_prince', 0.5499460697174072),\n",
       " ('prince', 0.5377321839332581),\n",
       " ('kings', 0.5236844420433044),\n",
       " ('Queen_Consort', 0.5235945582389832),\n",
       " ('queens', 0.5181134343147278),\n",
       " ('sultan', 0.5098593831062317),\n",
       " ('monarchy', 0.5087411999702454)]"
      ]
     },
     "execution_count": 23,
     "metadata": {},
     "output_type": "execute_result"
    }
   ],
   "source": [
    "model.most_similar(positive=['king','woman'],negative=['man'])"
   ]
  },
  {
   "cell_type": "code",
   "execution_count": 17,
   "metadata": {},
   "outputs": [
    {
     "name": "stdout",
     "output_type": "stream",
     "text": [
      "Cosine similarity :  0.7046408\n"
     ]
    }
   ],
   "source": [
    "# queen - woman + man = king\n",
    "result_king = queen - woman + man\n",
    "similarity = cosine_similarity(result_king.reshape(1,-1), king.reshape(1,-1))[0][0]\n",
    "\n",
    "print(\"Cosine similarity : \", similarity)"
   ]
  },
  {
   "cell_type": "code",
   "execution_count": 20,
   "metadata": {},
   "outputs": [
    {
     "name": "stdout",
     "output_type": "stream",
     "text": [
      "Cosine similarity :  0.55645406\n"
     ]
    }
   ],
   "source": [
    "# queen - girl + boy = prince\n",
    "prince = model['prince']\n",
    "girl = model['girl']\n",
    "boy = model['boy']\n",
    "result_prince = queen - girl + boy\n",
    "similarity = cosine_similarity(result_prince.reshape(1,-1), prince.reshape(1,-1))[0][0]\n",
    "\n",
    "print(\"Cosine similarity : \", similarity)"
   ]
  },
  {
   "cell_type": "code",
   "execution_count": 22,
   "metadata": {},
   "outputs": [
    {
     "name": "stdout",
     "output_type": "stream",
     "text": [
      "Cosine similarity :  0.712596\n"
     ]
    }
   ],
   "source": [
    "# princess - girl + boy = prince\n",
    "princess = model['princess'] \n",
    "prince = model['prince']\n",
    "girl = model['girl']\n",
    "boy = model['boy']\n",
    "result_prince = princess - girl + boy\n",
    "similarity = cosine_similarity(result_prince.reshape(1,-1), prince.reshape(1,-1))[0][0]\n",
    "\n",
    "print(\"Cosine similarity : \", similarity)"
   ]
  },
  {
   "cell_type": "code",
   "execution_count": 26,
   "metadata": {},
   "outputs": [
    {
     "data": {
      "image/png": "[encoded data removed]",
      "text/plain": [
       "<Figure size 432x288 with 1 Axes>"
      ]
     },
     "metadata": {
      "needs_background": "light"
     },
     "output_type": "display_data"
    }
   ],
   "source": [
    "\n",
    "#from gensim.models import KeyedVectors\n",
    "%matplotlib inline\n",
    "import matplotlib.pyplot as plt\n",
    "\n",
    "words = ['apple', 'mango', 'king', 'man', 'male', 'women', 'coconut', 'orange', 'fruit', 'price']\n",
    "\n",
    "# Get the 2D vectors for the words\n",
    "vectors = [model[word] for word in words]\n",
    "\n",
    "# Plot the 2D vectors\n",
    "fig, ax = plt.subplots()\n",
    "ax.scatter([vector[0] for vector in vectors], [vector[1] for vector in vectors])\n",
    "\n",
    "# Add labels for each point\n",
    "for i, word in enumerate(words):\n",
    "    ax.annotate(word, (vectors[i][0], vectors[i][1]))\n",
    "\n",
    "# Show the plot\n",
    "plt.show()\n",
    "\n",
    "\n",
    "\n",
    "\n",
    "\n",
    "\n"
   ]
  },
  {
   "cell_type": "code",
   "execution_count": 27,
   "metadata": {},
   "outputs": [
    {
     "data": {
      "image/png": "[encoded data removed]",
      "text/plain": [
       "<Figure size 432x288 with 1 Axes>"
      ]
     },
     "metadata": {
      "needs_background": "light"
     },
     "output_type": "display_data"
    }
   ],
   "source": [
    "import gensim.downloader as api\n",
    "import matplotlib.pyplot as plt\n",
    "\n",
    "# Load the pre-trained Google News Word2Vec model\n",
    "model = api.load('word2vec-google-news-300')\n",
    "\n"
   ]
  },
  {
   "cell_type": "code",
   "execution_count": 31,
   "metadata": {},
   "outputs": [
    {
     "data": {
      "image/png": "[encoded data removed]",
      "text/plain": [
       "<Figure size 432x288 with 1 Axes>"
      ]
     },
     "metadata": {
      "needs_background": "light"
     },
     "output_type": "display_data"
    }
   ],
   "source": [
    "words = ['apple', 'mango', 'king', 'man', 'male', 'women', 'coconut', 'orange', 'fruit', 'guava']\n",
    "\n",
    "# Get the 2D vectors for the words\n",
    "vectors = [model[word][:2] for word in words]\n",
    "\n",
    "# Plot the 2D vectors\n",
    "fig, ax = plt.subplots()\n",
    "ax.scatter([vector[0] for vector in vectors], [vector[1] for vector in vectors])\n",
    "\n",
    "# Add labels for each point\n",
    "for i, word in enumerate(words):\n",
    "    ax.annotate(word, (vectors[i][0], vectors[i][1]))\n",
    "\n",
    "# Show the plot\n",
    "plt.show()\n"
   ]
  },
  {
   "cell_type": "code",
   "execution_count": 9,
   "metadata": {},
   "outputs": [
    {
     "name": "stdout",
     "output_type": "stream",
     "text": [
      "his 0.2531651556491852\n",
      "with 0.14945608377456665\n",
      "boy 0.14724946022033691\n",
      "man 0.14262345433235168\n",
      "in 0.1377280205488205\n",
      "kingdom 0.11693627387285233\n",
      "together 0.07168899476528168\n",
      "park 0.04576393589377403\n",
      "queen 0.04498213902115822\n",
      "yard 0.02727307565510273\n"
     ]
    }
   ],
   "source": [
    "from gensim.models import Word2Vec\n",
    "\n",
    "# Define your own corpus as a list of sentences\n",
    "corpus = [\n",
    "    [\"the\", \"quick\", \"brown\", \"fox\", \"jumps\", \"over\", \"the\", \"lazy\", \"dog\"],\n",
    "    [\"a\", \"king\", \"and\", \"his\", \"queen\", \"rule\", \"over\", \"their\", \"kingdom\"],\n",
    "    [\"man\", \"and\", \"woman\", \"walk\", \"together\", \"in\", \"the\", \"park\"],\n",
    "    [\"the\", \"boy\", \"plays\", \"with\", \"his\", \"puppy\", \"in\", \"the\", \"yard\"]\n",
    "]\n",
    "\n",
    "# Train a Word2Vec model on your corpus\n",
    "model = Word2Vec(corpus, min_count=1)\n",
    "\n",
    "# Find the words most similar to a given word\n",
    "similar_words = model.wv.most_similar(\"king\")\n",
    "\n",
    "# Print the top 10 most similar words and their cosine similarity scores\n",
    "for word, score in similar_words[:10]:\n",
    "    print(word, score)\n"
   ]
  },
  {
   "cell_type": "code",
   "execution_count": null,
   "metadata": {},
   "outputs": [],
   "source": [
    "\n"
   ]
  }
 ],
 "metadata": {
  "kernelspec": {
   "display_name": "Python 3",
   "language": "python",
   "name": "python3"
  },
  "language_info": {
   "codemirror_mode": {
    "name": "ipython",
    "version": 3
   },
   "file_extension": ".py",
   "mimetype": "text/x-python",
   "name": "python",
   "nbconvert_exporter": "python",
   "pygments_lexer": "ipython3",
   "version": "3.7.4"
  }
 },
 "nbformat": 4,
 "nbformat_minor": 2
}
