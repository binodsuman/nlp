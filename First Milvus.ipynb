{
 "cells": [
  {
   "cell_type": "code",
   "execution_count": null,
   "metadata": {},
   "outputs": [],
   "source": [
    "# https://milvus.io/docs/example_code.md\n",
    "# https://www.youtube.com/watch?v=kh1CSlQF788&list=PLPg7_faNDlT5Fb8WN8r1PzzQTNzdechnS&index=5\n",
    "# YouTube Playlist https://www.youtube.com/playlist?list=PLPg7_faNDlT5Fb8WN8r1PzzQTNzdechnS\n",
    "\n",
    "#Run this commond in terminal\n",
    "#sudo pip install pymilvus\n"
   ]
  },
  {
   "cell_type": "code",
   "execution_count": null,
   "metadata": {},
   "outputs": [],
   "source": []
  },
  {
   "cell_type": "code",
   "execution_count": 1,
   "metadata": {},
   "outputs": [],
   "source": [
    "import random\n",
    "import numpy as np"
   ]
  },
  {
   "cell_type": "code",
   "execution_count": 2,
   "metadata": {},
   "outputs": [],
   "source": [
    "from pprint import pprint"
   ]
  },
  {
   "cell_type": "code",
   "execution_count": 3,
   "metadata": {},
   "outputs": [
    {
     "ename": "ImportError",
     "evalue": "cannot import name 'Milvus' from 'milvus' (/Users/binod/Documents/software/anaconda/anaconda3/lib/python3.7/site-packages/milvus/__init__.py)",
     "output_type": "error",
     "traceback": [
      "\u001b[0;31m---------------------------------------------------------------------------\u001b[0m",
      "\u001b[0;31mImportError\u001b[0m                               Traceback (most recent call last)",
      "\u001b[0;32m<ipython-input-3-256a54174cec>\u001b[0m in \u001b[0;36m<module>\u001b[0;34m\u001b[0m\n\u001b[0;32m----> 1\u001b[0;31m \u001b[0;32mfrom\u001b[0m \u001b[0mmilvus\u001b[0m \u001b[0;32mimport\u001b[0m \u001b[0mMilvus\u001b[0m\u001b[0;34m,\u001b[0m \u001b[0mIndexType\u001b[0m\u001b[0;34m,\u001b[0m \u001b[0mMetricType\u001b[0m\u001b[0;34m,\u001b[0m \u001b[0mStatus\u001b[0m\u001b[0;34m\u001b[0m\u001b[0;34m\u001b[0m\u001b[0m\n\u001b[0m",
      "\u001b[0;31mImportError\u001b[0m: cannot import name 'Milvus' from 'milvus' (/Users/binod/Documents/software/anaconda/anaconda3/lib/python3.7/site-packages/milvus/__init__.py)"
     ]
    }
   ],
   "source": [
    "from milvus import Milvus, IndexType, MetricType, Status"
   ]
  },
  {
   "cell_type": "code",
   "execution_count": 4,
   "metadata": {},
   "outputs": [],
   "source": [
    "#Imports a PyMilvus package:\n",
    "from pymilvus import (\n",
    "    connections,\n",
    "    utility,\n",
    "    FieldSchema,\n",
    "    CollectionSchema,\n",
    "    DataType,\n",
    "    Collection,\n",
    ")"
   ]
  },
  {
   "cell_type": "code",
   "execution_count": 5,
   "metadata": {},
   "outputs": [],
   "source": [
    "#Connects to a server:\n",
    "connections.connect(\"default\", host=\"localhost\", port=\"19530\")"
   ]
  },
  {
   "cell_type": "code",
   "execution_count": 6,
   "metadata": {},
   "outputs": [],
   "source": [
    "#Creates a collection:\n",
    "fields = [\n",
    "    FieldSchema(name=\"pk\", dtype=DataType.INT64, is_primary=True, auto_id=False),\n",
    "    FieldSchema(name=\"random\", dtype=DataType.DOUBLE),\n",
    "    FieldSchema(name=\"embeddings\", dtype=DataType.FLOAT_VECTOR, dim=8)\n",
    "]\n",
    "schema = CollectionSchema(fields, \"hello_milvus is the simplest demo to introduce the APIs\")\n",
    "hello_milvus = Collection(\"hello_milvus\", schema)"
   ]
  },
  {
   "cell_type": "code",
   "execution_count": 7,
   "metadata": {},
   "outputs": [],
   "source": [
    "#Inserts vectors in the collection:\n",
    "import random\n",
    "entities = [\n",
    "    [i for i in range(3000)],  # field pk\n",
    "    [float(random.randrange(-20, -10)) for _ in range(3000)],  # field random\n",
    "    [[random.random() for _ in range(8)] for _ in range(3000)],  # field embeddings\n",
    "]\n",
    "insert_result = hello_milvus.insert(entities)\n",
    "# After final entity is inserted, it is best to call flush to have no growing segments left in memory\n",
    "hello_milvus.flush() "
   ]
  },
  {
   "cell_type": "code",
   "execution_count": 8,
   "metadata": {},
   "outputs": [
    {
     "data": {
      "text/plain": [
       "Status(code=0, message=)"
      ]
     },
     "execution_count": 8,
     "metadata": {},
     "output_type": "execute_result"
    }
   ],
   "source": [
    "# Builds indexes on the entities:\n",
    "\n",
    "index = {\n",
    "    \"index_type\": \"IVF_FLAT\",\n",
    "    \"metric_type\": \"L2\",\n",
    "    \"params\": {\"nlist\": 128},\n",
    "}\n",
    "hello_milvus.create_index(\"embeddings\", index)\n"
   ]
  },
  {
   "cell_type": "code",
   "execution_count": 9,
   "metadata": {},
   "outputs": [],
   "source": [
    "# Loads the collection to memory and performs a vector similarity search:\n",
    "hello_milvus.load()\n",
    "vectors_to_search = entities[-1][-2:]\n",
    "search_params = {\n",
    "    \"metric_type\": \"L2\",\n",
    "    \"params\": {\"nprobe\": 10},\n",
    "}\n",
    "result = hello_milvus.search(vectors_to_search, \"embeddings\", search_params, limit=3, output_fields=[\"random\"])\n"
   ]
  },
  {
   "cell_type": "code",
   "execution_count": 11,
   "metadata": {},
   "outputs": [],
   "source": [
    "# Performs a vector query:\n",
    "result = hello_milvus.query(expr=\"random > -14\", output_fields=[\"random\", \"embeddings\"])"
   ]
  },
  {
   "cell_type": "code",
   "execution_count": 12,
   "metadata": {},
   "outputs": [],
   "source": [
    "# Performs a hybrid search:\n",
    "result = hello_milvus.search(vectors_to_search, \"embeddings\", search_params, limit=3, expr=\"random > -12\", output_fields=[\"random\"])\n"
   ]
  },
  {
   "cell_type": "code",
   "execution_count": null,
   "metadata": {},
   "outputs": [],
   "source": [
    "# Deletes entities by their primary keys:\n",
    "expr = f\"pk in [{entities[0]}, {entities[1]}]\"\n",
    "hello_milvus.delete(expr)\n"
   ]
  },
  {
   "cell_type": "code",
   "execution_count": 13,
   "metadata": {},
   "outputs": [],
   "source": [
    "# Drops the collection:\n",
    "utility.drop_collection(\"hello_milvus\")\n"
   ]
  },
  {
   "cell_type": "code",
   "execution_count": 29,
   "metadata": {},
   "outputs": [],
   "source": [
    "#Creates a collection:\n",
    "fields = [\n",
    "    FieldSchema(name=\"pk\", dtype=DataType.INT64, is_primary=True, auto_id=False),\n",
    "    FieldSchema(name=\"words\", dtype=DataType.VARCHAR, max_length=50),\n",
    "    FieldSchema(name=\"embeddings\", dtype=DataType.FLOAT_VECTOR, dim=100)\n",
    "]\n",
    "schema = CollectionSchema(fields, \"Simple Demo for storing and retrieve embedding and matching\")\n",
    "demo = Collection(\"demo\", schema)"
   ]
  },
  {
   "cell_type": "code",
   "execution_count": 32,
   "metadata": {},
   "outputs": [
    {
     "data": {
      "text/plain": [
       "Status(code=0, message=)"
      ]
     },
     "execution_count": 32,
     "metadata": {},
     "output_type": "execute_result"
    }
   ],
   "source": [
    "# Builds indexes on the entities:\n",
    "\n",
    "index = {\n",
    "    \"index_type\": \"IVF_FLAT\",\n",
    "    \"metric_type\": \"L2\",\n",
    "    \"params\": {\"nlist\": 128},\n",
    "}\n",
    "demo.create_index(\"embeddings\", index)\n",
    "\n"
   ]
  },
  {
   "cell_type": "code",
   "execution_count": 28,
   "metadata": {},
   "outputs": [],
   "source": [
    "# Drops the collection:\n",
    "utility.drop_collection(\"demo\")\n",
    "\n"
   ]
  },
  {
   "cell_type": "code",
   "execution_count": 15,
   "metadata": {},
   "outputs": [],
   "source": [
    "from gensim.models import Word2Vec\n",
    "from sklearn.metrics.pairwise import cosine_similarity\n",
    "\n",
    "# Define the example sentences\n",
    "sentences = [\n",
    "    \"The puppy loyal to its owner and loved to chase its tail\",\n",
    "    \"The dog was loyal and protective of its owner, has lovely tail\"\n",
    "]\n",
    "\n",
    "\n"
   ]
  },
  {
   "cell_type": "code",
   "execution_count": 16,
   "metadata": {},
   "outputs": [],
   "source": [
    "word_lists = [sentence.lower().split() for sentence in sentences]"
   ]
  },
  {
   "cell_type": "code",
   "execution_count": 17,
   "metadata": {
    "collapsed": true
   },
   "outputs": [
    {
     "name": "stdout",
     "output_type": "stream",
     "text": [
      "Embedding for 'puppy':  [ 8.1693530e-03 -4.4424967e-03  8.9852214e-03  8.2536135e-03\n",
      " -4.4353902e-03  3.0241191e-04  4.2745322e-03 -3.9266776e-03\n",
      " -5.5602933e-03 -6.5135299e-03 -6.6985562e-04 -2.9506299e-04\n",
      "  4.4629988e-03 -2.4744093e-03 -1.7139514e-04  2.4623820e-03\n",
      "  4.8689600e-03 -3.1117946e-05 -6.3400054e-03 -9.2621362e-03\n",
      "  2.6943893e-05  6.6615203e-03  1.4670712e-03 -8.9669479e-03\n",
      " -7.9381913e-03  6.5520909e-03 -3.7867506e-03  6.2539754e-03\n",
      " -6.6802753e-03  8.4803579e-03 -6.5157204e-03  3.2886867e-03\n",
      " -1.0567167e-03 -6.7876372e-03 -3.2876898e-03 -1.1616098e-03\n",
      " -5.4721525e-03 -1.2111445e-03 -7.5635971e-03  2.6450334e-03\n",
      "  9.0694204e-03 -2.3773636e-03 -9.7476749e-04  3.5129883e-03\n",
      "  8.6645139e-03 -5.9219110e-03 -6.8874871e-03 -2.9331418e-03\n",
      "  9.1473395e-03  8.6730585e-04 -8.6782174e-03 -1.4478377e-03\n",
      "  9.4779180e-03 -7.5491238e-03 -5.3589093e-03  9.3162311e-03\n",
      " -8.9734495e-03  3.8262166e-03  6.6430384e-04  6.6604549e-03\n",
      "  8.3128037e-03 -2.8500976e-03 -3.9914288e-03  8.8984985e-03\n",
      "  2.0893081e-03  6.2500578e-03 -9.4454400e-03  9.5897028e-03\n",
      " -1.3488920e-03 -6.0530682e-03  2.9927695e-03 -4.5615924e-04\n",
      "  4.7058552e-03 -2.2821864e-03 -4.1372562e-03  2.2775747e-03\n",
      "  8.3543332e-03 -4.9947128e-03  2.6682301e-03 -7.9899188e-03\n",
      " -6.7721470e-03 -4.6734506e-04 -8.7680770e-03  2.7897134e-03\n",
      "  1.5998117e-03 -2.3196808e-03  5.0044423e-03  9.7488211e-03\n",
      "  8.4544029e-03 -1.8804831e-03  2.0588078e-03 -4.0033553e-03\n",
      " -8.2420558e-03  6.2787309e-03 -1.9490051e-03 -6.6671195e-04\n",
      " -1.7714149e-03 -4.5371093e-03  4.0605217e-03 -4.2698667e-03]\n",
      "Embedding for 'dog':  [ 9.7660916e-03  8.1730271e-03  1.2783010e-03  5.0980113e-03\n",
      "  1.4060455e-03 -6.4592040e-03 -1.4336691e-03  6.4479471e-03\n",
      " -4.6211681e-03 -3.9934567e-03  4.9211313e-03  2.7139890e-03\n",
      " -1.8545939e-03 -2.8804429e-03  6.0154372e-03 -5.7157530e-03\n",
      " -3.2343881e-03 -6.4854696e-03 -4.2347577e-03 -8.5863052e-03\n",
      " -4.4684857e-03 -8.5100997e-03  1.4064810e-03 -8.6176069e-03\n",
      " -9.9166110e-03 -8.1982780e-03 -6.7796209e-03  6.6819051e-03\n",
      "  3.7851075e-03  3.5918539e-04 -2.9571771e-03 -7.4291090e-03\n",
      "  5.3766824e-04  4.9750111e-04  1.9736374e-04  8.5058867e-04\n",
      "  7.8352710e-04 -6.4013737e-05 -8.0097895e-03 -5.8697653e-03\n",
      " -8.3840089e-03 -1.3150296e-03  1.8212562e-03  7.4242232e-03\n",
      " -1.9637719e-03 -2.3293255e-03  9.4863744e-03  7.7526871e-05\n",
      " -2.4009668e-03  8.6036930e-03  2.6868226e-03 -5.3448621e-03\n",
      "  6.5894304e-03  4.5115459e-03 -7.0577520e-03 -3.2075454e-04\n",
      "  8.3805999e-04  5.7480466e-03 -1.7169291e-03 -2.8005391e-03\n",
      "  1.7518512e-03  8.4891031e-04  1.1949332e-03 -2.6297797e-03\n",
      " -5.9818737e-03  7.3236902e-03  7.5940145e-03  8.3037838e-03\n",
      " -8.5979579e-03  2.6379940e-03 -3.5629859e-03  9.6200192e-03\n",
      "  2.9023534e-03  4.6420889e-03  2.3911921e-03  6.6173007e-03\n",
      " -5.7439920e-03  7.8982152e-03 -2.4093732e-03 -4.5675314e-03\n",
      " -2.0642325e-03  9.7325137e-03 -6.8546589e-03 -2.1885601e-03\n",
      "  7.0027006e-03 -5.2955802e-05 -6.2923757e-03 -6.3918512e-03\n",
      "  8.9441026e-03  6.4283307e-03  4.7790534e-03 -3.2585978e-03\n",
      " -9.2686685e-03  3.7852447e-03  7.1587632e-03 -5.6356196e-03\n",
      " -7.8604799e-03 -2.9719344e-03 -4.9338443e-03 -2.3091009e-03]\n"
     ]
    }
   ],
   "source": [
    "model = Word2Vec(word_lists, min_count=1)\n",
    "\n",
    "# Get the embeddings for \"associate\" and \"employee\"\n",
    "embedding_1 = model.wv['puppy']\n",
    "embedding_2 = model.wv['dog']\n",
    "\n",
    "# Print the embeddings\n",
    "print(\"Embedding for 'puppy': \", embedding_1)\n",
    "print(\"Embedding for 'dog': \", embedding_2)\n",
    "\n",
    "\n"
   ]
  },
  {
   "cell_type": "code",
   "execution_count": 18,
   "metadata": {},
   "outputs": [
    {
     "data": {
      "text/plain": [
       "(100,)"
      ]
     },
     "execution_count": 18,
     "metadata": {},
     "output_type": "execute_result"
    }
   ],
   "source": [
    "embedding_1.shape"
   ]
  },
  {
   "cell_type": "code",
   "execution_count": 36,
   "metadata": {},
   "outputs": [],
   "source": [
    "entities = [\n",
    "    [10,20],  # field pk\n",
    "    ['puppy','dog'],  # field words\n",
    "    [embedding_1,embedding_2],  # field embeddings\n",
    "]\n",
    "insert_result = demo.insert(entities)\n",
    "# After final entity is inserted, it is best to call flush to have no growing segments left in memory\n",
    "demo.flush() "
   ]
  },
  {
   "cell_type": "code",
   "execution_count": 37,
   "metadata": {},
   "outputs": [
    {
     "data": {
      "text/plain": [
       "(insert count: 2, delete count: 0, upsert count: 0, timestamp: 442736533841641476, success count: 2, err count: 0)"
      ]
     },
     "execution_count": 37,
     "metadata": {},
     "output_type": "execute_result"
    }
   ],
   "source": [
    "insert_result"
   ]
  },
  {
   "cell_type": "code",
   "execution_count": 38,
   "metadata": {},
   "outputs": [],
   "source": [
    "# Loads the collection to memory and \n",
    "demo.load()\n",
    "\n"
   ]
  },
  {
   "cell_type": "code",
   "execution_count": 39,
   "metadata": {},
   "outputs": [
    {
     "data": {
      "text/plain": [
       "[[10, 20],\n",
       " ['puppy', 'dog'],\n",
       " [array([ 8.1693530e-03, -4.4424967e-03,  8.9852214e-03,  8.2536135e-03,\n",
       "         -4.4353902e-03,  3.0241191e-04,  4.2745322e-03, -3.9266776e-03,\n",
       "         -5.5602933e-03, -6.5135299e-03, -6.6985562e-04, -2.9506299e-04,\n",
       "          4.4629988e-03, -2.4744093e-03, -1.7139514e-04,  2.4623820e-03,\n",
       "          4.8689600e-03, -3.1117946e-05, -6.3400054e-03, -9.2621362e-03,\n",
       "          2.6943893e-05,  6.6615203e-03,  1.4670712e-03, -8.9669479e-03,\n",
       "         -7.9381913e-03,  6.5520909e-03, -3.7867506e-03,  6.2539754e-03,\n",
       "         -6.6802753e-03,  8.4803579e-03, -6.5157204e-03,  3.2886867e-03,\n",
       "         -1.0567167e-03, -6.7876372e-03, -3.2876898e-03, -1.1616098e-03,\n",
       "         -5.4721525e-03, -1.2111445e-03, -7.5635971e-03,  2.6450334e-03,\n",
       "          9.0694204e-03, -2.3773636e-03, -9.7476749e-04,  3.5129883e-03,\n",
       "          8.6645139e-03, -5.9219110e-03, -6.8874871e-03, -2.9331418e-03,\n",
       "          9.1473395e-03,  8.6730585e-04, -8.6782174e-03, -1.4478377e-03,\n",
       "          9.4779180e-03, -7.5491238e-03, -5.3589093e-03,  9.3162311e-03,\n",
       "         -8.9734495e-03,  3.8262166e-03,  6.6430384e-04,  6.6604549e-03,\n",
       "          8.3128037e-03, -2.8500976e-03, -3.9914288e-03,  8.8984985e-03,\n",
       "          2.0893081e-03,  6.2500578e-03, -9.4454400e-03,  9.5897028e-03,\n",
       "         -1.3488920e-03, -6.0530682e-03,  2.9927695e-03, -4.5615924e-04,\n",
       "          4.7058552e-03, -2.2821864e-03, -4.1372562e-03,  2.2775747e-03,\n",
       "          8.3543332e-03, -4.9947128e-03,  2.6682301e-03, -7.9899188e-03,\n",
       "         -6.7721470e-03, -4.6734506e-04, -8.7680770e-03,  2.7897134e-03,\n",
       "          1.5998117e-03, -2.3196808e-03,  5.0044423e-03,  9.7488211e-03,\n",
       "          8.4544029e-03, -1.8804831e-03,  2.0588078e-03, -4.0033553e-03,\n",
       "         -8.2420558e-03,  6.2787309e-03, -1.9490051e-03, -6.6671195e-04,\n",
       "         -1.7714149e-03, -4.5371093e-03,  4.0605217e-03, -4.2698667e-03],\n",
       "        dtype=float32),\n",
       "  array([ 9.7660916e-03,  8.1730271e-03,  1.2783010e-03,  5.0980113e-03,\n",
       "          1.4060455e-03, -6.4592040e-03, -1.4336691e-03,  6.4479471e-03,\n",
       "         -4.6211681e-03, -3.9934567e-03,  4.9211313e-03,  2.7139890e-03,\n",
       "         -1.8545939e-03, -2.8804429e-03,  6.0154372e-03, -5.7157530e-03,\n",
       "         -3.2343881e-03, -6.4854696e-03, -4.2347577e-03, -8.5863052e-03,\n",
       "         -4.4684857e-03, -8.5100997e-03,  1.4064810e-03, -8.6176069e-03,\n",
       "         -9.9166110e-03, -8.1982780e-03, -6.7796209e-03,  6.6819051e-03,\n",
       "          3.7851075e-03,  3.5918539e-04, -2.9571771e-03, -7.4291090e-03,\n",
       "          5.3766824e-04,  4.9750111e-04,  1.9736374e-04,  8.5058867e-04,\n",
       "          7.8352710e-04, -6.4013737e-05, -8.0097895e-03, -5.8697653e-03,\n",
       "         -8.3840089e-03, -1.3150296e-03,  1.8212562e-03,  7.4242232e-03,\n",
       "         -1.9637719e-03, -2.3293255e-03,  9.4863744e-03,  7.7526871e-05,\n",
       "         -2.4009668e-03,  8.6036930e-03,  2.6868226e-03, -5.3448621e-03,\n",
       "          6.5894304e-03,  4.5115459e-03, -7.0577520e-03, -3.2075454e-04,\n",
       "          8.3805999e-04,  5.7480466e-03, -1.7169291e-03, -2.8005391e-03,\n",
       "          1.7518512e-03,  8.4891031e-04,  1.1949332e-03, -2.6297797e-03,\n",
       "         -5.9818737e-03,  7.3236902e-03,  7.5940145e-03,  8.3037838e-03,\n",
       "         -8.5979579e-03,  2.6379940e-03, -3.5629859e-03,  9.6200192e-03,\n",
       "          2.9023534e-03,  4.6420889e-03,  2.3911921e-03,  6.6173007e-03,\n",
       "         -5.7439920e-03,  7.8982152e-03, -2.4093732e-03, -4.5675314e-03,\n",
       "         -2.0642325e-03,  9.7325137e-03, -6.8546589e-03, -2.1885601e-03,\n",
       "          7.0027006e-03, -5.2955802e-05, -6.2923757e-03, -6.3918512e-03,\n",
       "          8.9441026e-03,  6.4283307e-03,  4.7790534e-03, -3.2585978e-03,\n",
       "         -9.2686685e-03,  3.7852447e-03,  7.1587632e-03, -5.6356196e-03,\n",
       "         -7.8604799e-03, -2.9719344e-03, -4.9338443e-03, -2.3091009e-03],\n",
       "        dtype=float32)]]"
      ]
     },
     "execution_count": 39,
     "metadata": {},
     "output_type": "execute_result"
    }
   ],
   "source": [
    "entities"
   ]
  },
  {
   "cell_type": "code",
   "execution_count": null,
   "metadata": {},
   "outputs": [],
   "source": [
    "# performs a vector similarity search:\n",
    "vectors_to_search = entities[-1][-2:]\n",
    "search_params = {\n",
    "    \"metric_type\": \"L2\",\n",
    "    \"params\": {\"nprobe\": 10},\n",
    "}\n",
    "result = demo.search(vectors_to_search, \"embeddings\", search_params, limit=3, output_fields=[\"words\"])\n",
    "\n"
   ]
  },
  {
   "cell_type": "code",
   "execution_count": 40,
   "metadata": {},
   "outputs": [],
   "source": [
    "#Creates a collection:\n",
    "fields = [\n",
    "    FieldSchema(name=\"pk\", dtype=DataType.INT64, is_primary=True, auto_id=False),\n",
    "    FieldSchema(name=\"words\", dtype=DataType.VARCHAR, max_length=50),\n",
    "    FieldSchema(name=\"embeddings\", dtype=DataType.FLOAT_VECTOR, dim=100)\n",
    "]\n",
    "schema = CollectionSchema(fields, \"Simple Demo for storing and retrieve embedding and matching\")\n",
    "demo_2 = Collection(\"demo_2\", schema)"
   ]
  },
  {
   "cell_type": "code",
   "execution_count": 41,
   "metadata": {},
   "outputs": [],
   "source": [
    "#Insert data in collection\n",
    "data = [\n",
    "    [1,2],  # field pk\n",
    "    ['puppy','dog'],  # field words\n",
    "    [embedding_1,embedding_2],  # field embeddings\n",
    "]\n",
    "insert_result = demo_2.insert(data)\n",
    "# After final entity is inserted, it is best to call flush to have no growing segments left in memory\n",
    "demo_2.flush() "
   ]
  },
  {
   "cell_type": "code",
   "execution_count": 43,
   "metadata": {},
   "outputs": [
    {
     "data": {
      "text/plain": [
       "Status(code=0, message=)"
      ]
     },
     "execution_count": 43,
     "metadata": {},
     "output_type": "execute_result"
    }
   ],
   "source": [
    "# Builds indexes on the entities:\n",
    "\n",
    "index = {\n",
    "    \"index_type\": \"IVF_FLAT\",\n",
    "    \"metric_type\": \"L2\",\n",
    "    \"params\": {\"nlist\": 128},\n",
    "}\n",
    "demo_2.create_index(\"embeddings\", index)\n",
    "\n",
    "\n"
   ]
  },
  {
   "cell_type": "code",
   "execution_count": 44,
   "metadata": {},
   "outputs": [],
   "source": [
    "# Loads the collection to memory and \n",
    "# All search and query operations within Milvus are executed in memory. \n",
    "# Load the collection to memory before conducting a vector similarity search.\n",
    "demo_2.load()\n",
    "\n"
   ]
  },
  {
   "cell_type": "code",
   "execution_count": 45,
   "metadata": {},
   "outputs": [
    {
     "data": {
      "text/plain": [
       "[array([ 8.1693530e-03, -4.4424967e-03,  8.9852214e-03,  8.2536135e-03,\n",
       "        -4.4353902e-03,  3.0241191e-04,  4.2745322e-03, -3.9266776e-03,\n",
       "        -5.5602933e-03, -6.5135299e-03, -6.6985562e-04, -2.9506299e-04,\n",
       "         4.4629988e-03, -2.4744093e-03, -1.7139514e-04,  2.4623820e-03,\n",
       "         4.8689600e-03, -3.1117946e-05, -6.3400054e-03, -9.2621362e-03,\n",
       "         2.6943893e-05,  6.6615203e-03,  1.4670712e-03, -8.9669479e-03,\n",
       "        -7.9381913e-03,  6.5520909e-03, -3.7867506e-03,  6.2539754e-03,\n",
       "        -6.6802753e-03,  8.4803579e-03, -6.5157204e-03,  3.2886867e-03,\n",
       "        -1.0567167e-03, -6.7876372e-03, -3.2876898e-03, -1.1616098e-03,\n",
       "        -5.4721525e-03, -1.2111445e-03, -7.5635971e-03,  2.6450334e-03,\n",
       "         9.0694204e-03, -2.3773636e-03, -9.7476749e-04,  3.5129883e-03,\n",
       "         8.6645139e-03, -5.9219110e-03, -6.8874871e-03, -2.9331418e-03,\n",
       "         9.1473395e-03,  8.6730585e-04, -8.6782174e-03, -1.4478377e-03,\n",
       "         9.4779180e-03, -7.5491238e-03, -5.3589093e-03,  9.3162311e-03,\n",
       "        -8.9734495e-03,  3.8262166e-03,  6.6430384e-04,  6.6604549e-03,\n",
       "         8.3128037e-03, -2.8500976e-03, -3.9914288e-03,  8.8984985e-03,\n",
       "         2.0893081e-03,  6.2500578e-03, -9.4454400e-03,  9.5897028e-03,\n",
       "        -1.3488920e-03, -6.0530682e-03,  2.9927695e-03, -4.5615924e-04,\n",
       "         4.7058552e-03, -2.2821864e-03, -4.1372562e-03,  2.2775747e-03,\n",
       "         8.3543332e-03, -4.9947128e-03,  2.6682301e-03, -7.9899188e-03,\n",
       "        -6.7721470e-03, -4.6734506e-04, -8.7680770e-03,  2.7897134e-03,\n",
       "         1.5998117e-03, -2.3196808e-03,  5.0044423e-03,  9.7488211e-03,\n",
       "         8.4544029e-03, -1.8804831e-03,  2.0588078e-03, -4.0033553e-03,\n",
       "        -8.2420558e-03,  6.2787309e-03, -1.9490051e-03, -6.6671195e-04,\n",
       "        -1.7714149e-03, -4.5371093e-03,  4.0605217e-03, -4.2698667e-03],\n",
       "       dtype=float32),\n",
       " array([ 9.7660916e-03,  8.1730271e-03,  1.2783010e-03,  5.0980113e-03,\n",
       "         1.4060455e-03, -6.4592040e-03, -1.4336691e-03,  6.4479471e-03,\n",
       "        -4.6211681e-03, -3.9934567e-03,  4.9211313e-03,  2.7139890e-03,\n",
       "        -1.8545939e-03, -2.8804429e-03,  6.0154372e-03, -5.7157530e-03,\n",
       "        -3.2343881e-03, -6.4854696e-03, -4.2347577e-03, -8.5863052e-03,\n",
       "        -4.4684857e-03, -8.5100997e-03,  1.4064810e-03, -8.6176069e-03,\n",
       "        -9.9166110e-03, -8.1982780e-03, -6.7796209e-03,  6.6819051e-03,\n",
       "         3.7851075e-03,  3.5918539e-04, -2.9571771e-03, -7.4291090e-03,\n",
       "         5.3766824e-04,  4.9750111e-04,  1.9736374e-04,  8.5058867e-04,\n",
       "         7.8352710e-04, -6.4013737e-05, -8.0097895e-03, -5.8697653e-03,\n",
       "        -8.3840089e-03, -1.3150296e-03,  1.8212562e-03,  7.4242232e-03,\n",
       "        -1.9637719e-03, -2.3293255e-03,  9.4863744e-03,  7.7526871e-05,\n",
       "        -2.4009668e-03,  8.6036930e-03,  2.6868226e-03, -5.3448621e-03,\n",
       "         6.5894304e-03,  4.5115459e-03, -7.0577520e-03, -3.2075454e-04,\n",
       "         8.3805999e-04,  5.7480466e-03, -1.7169291e-03, -2.8005391e-03,\n",
       "         1.7518512e-03,  8.4891031e-04,  1.1949332e-03, -2.6297797e-03,\n",
       "        -5.9818737e-03,  7.3236902e-03,  7.5940145e-03,  8.3037838e-03,\n",
       "        -8.5979579e-03,  2.6379940e-03, -3.5629859e-03,  9.6200192e-03,\n",
       "         2.9023534e-03,  4.6420889e-03,  2.3911921e-03,  6.6173007e-03,\n",
       "        -5.7439920e-03,  7.8982152e-03, -2.4093732e-03, -4.5675314e-03,\n",
       "        -2.0642325e-03,  9.7325137e-03, -6.8546589e-03, -2.1885601e-03,\n",
       "         7.0027006e-03, -5.2955802e-05, -6.2923757e-03, -6.3918512e-03,\n",
       "         8.9441026e-03,  6.4283307e-03,  4.7790534e-03, -3.2585978e-03,\n",
       "        -9.2686685e-03,  3.7852447e-03,  7.1587632e-03, -5.6356196e-03,\n",
       "        -7.8604799e-03, -2.9719344e-03, -4.9338443e-03, -2.3091009e-03],\n",
       "       dtype=float32)]"
      ]
     },
     "execution_count": 45,
     "metadata": {},
     "output_type": "execute_result"
    }
   ],
   "source": [
    "data[-1]"
   ]
  },
  {
   "cell_type": "code",
   "execution_count": 46,
   "metadata": {},
   "outputs": [
    {
     "name": "stdout",
     "output_type": "stream",
     "text": [
      "4\n",
      "3\n",
      "[3 4]\n"
     ]
    }
   ],
   "source": [
    "import numpy as np\n",
    "\n",
    "\n",
    "arr = np.array([1, 2, 3, 4])\n",
    "\n",
    "print(arr[-1])\n",
    "\n",
    "print(arr[-2])\n",
    "\n",
    "print(arr[-2:])"
   ]
  },
  {
   "cell_type": "code",
   "execution_count": 49,
   "metadata": {},
   "outputs": [
    {
     "data": {
      "text/plain": [
       "[[1, 2],\n",
       " ['puppy', 'dog'],\n",
       " [array([ 8.1693530e-03, -4.4424967e-03,  8.9852214e-03,  8.2536135e-03,\n",
       "         -4.4353902e-03,  3.0241191e-04,  4.2745322e-03, -3.9266776e-03,\n",
       "         -5.5602933e-03, -6.5135299e-03, -6.6985562e-04, -2.9506299e-04,\n",
       "          4.4629988e-03, -2.4744093e-03, -1.7139514e-04,  2.4623820e-03,\n",
       "          4.8689600e-03, -3.1117946e-05, -6.3400054e-03, -9.2621362e-03,\n",
       "          2.6943893e-05,  6.6615203e-03,  1.4670712e-03, -8.9669479e-03,\n",
       "         -7.9381913e-03,  6.5520909e-03, -3.7867506e-03,  6.2539754e-03,\n",
       "         -6.6802753e-03,  8.4803579e-03, -6.5157204e-03,  3.2886867e-03,\n",
       "         -1.0567167e-03, -6.7876372e-03, -3.2876898e-03, -1.1616098e-03,\n",
       "         -5.4721525e-03, -1.2111445e-03, -7.5635971e-03,  2.6450334e-03,\n",
       "          9.0694204e-03, -2.3773636e-03, -9.7476749e-04,  3.5129883e-03,\n",
       "          8.6645139e-03, -5.9219110e-03, -6.8874871e-03, -2.9331418e-03,\n",
       "          9.1473395e-03,  8.6730585e-04, -8.6782174e-03, -1.4478377e-03,\n",
       "          9.4779180e-03, -7.5491238e-03, -5.3589093e-03,  9.3162311e-03,\n",
       "         -8.9734495e-03,  3.8262166e-03,  6.6430384e-04,  6.6604549e-03,\n",
       "          8.3128037e-03, -2.8500976e-03, -3.9914288e-03,  8.8984985e-03,\n",
       "          2.0893081e-03,  6.2500578e-03, -9.4454400e-03,  9.5897028e-03,\n",
       "         -1.3488920e-03, -6.0530682e-03,  2.9927695e-03, -4.5615924e-04,\n",
       "          4.7058552e-03, -2.2821864e-03, -4.1372562e-03,  2.2775747e-03,\n",
       "          8.3543332e-03, -4.9947128e-03,  2.6682301e-03, -7.9899188e-03,\n",
       "         -6.7721470e-03, -4.6734506e-04, -8.7680770e-03,  2.7897134e-03,\n",
       "          1.5998117e-03, -2.3196808e-03,  5.0044423e-03,  9.7488211e-03,\n",
       "          8.4544029e-03, -1.8804831e-03,  2.0588078e-03, -4.0033553e-03,\n",
       "         -8.2420558e-03,  6.2787309e-03, -1.9490051e-03, -6.6671195e-04,\n",
       "         -1.7714149e-03, -4.5371093e-03,  4.0605217e-03, -4.2698667e-03],\n",
       "        dtype=float32),\n",
       "  array([ 9.7660916e-03,  8.1730271e-03,  1.2783010e-03,  5.0980113e-03,\n",
       "          1.4060455e-03, -6.4592040e-03, -1.4336691e-03,  6.4479471e-03,\n",
       "         -4.6211681e-03, -3.9934567e-03,  4.9211313e-03,  2.7139890e-03,\n",
       "         -1.8545939e-03, -2.8804429e-03,  6.0154372e-03, -5.7157530e-03,\n",
       "         -3.2343881e-03, -6.4854696e-03, -4.2347577e-03, -8.5863052e-03,\n",
       "         -4.4684857e-03, -8.5100997e-03,  1.4064810e-03, -8.6176069e-03,\n",
       "         -9.9166110e-03, -8.1982780e-03, -6.7796209e-03,  6.6819051e-03,\n",
       "          3.7851075e-03,  3.5918539e-04, -2.9571771e-03, -7.4291090e-03,\n",
       "          5.3766824e-04,  4.9750111e-04,  1.9736374e-04,  8.5058867e-04,\n",
       "          7.8352710e-04, -6.4013737e-05, -8.0097895e-03, -5.8697653e-03,\n",
       "         -8.3840089e-03, -1.3150296e-03,  1.8212562e-03,  7.4242232e-03,\n",
       "         -1.9637719e-03, -2.3293255e-03,  9.4863744e-03,  7.7526871e-05,\n",
       "         -2.4009668e-03,  8.6036930e-03,  2.6868226e-03, -5.3448621e-03,\n",
       "          6.5894304e-03,  4.5115459e-03, -7.0577520e-03, -3.2075454e-04,\n",
       "          8.3805999e-04,  5.7480466e-03, -1.7169291e-03, -2.8005391e-03,\n",
       "          1.7518512e-03,  8.4891031e-04,  1.1949332e-03, -2.6297797e-03,\n",
       "         -5.9818737e-03,  7.3236902e-03,  7.5940145e-03,  8.3037838e-03,\n",
       "         -8.5979579e-03,  2.6379940e-03, -3.5629859e-03,  9.6200192e-03,\n",
       "          2.9023534e-03,  4.6420889e-03,  2.3911921e-03,  6.6173007e-03,\n",
       "         -5.7439920e-03,  7.8982152e-03, -2.4093732e-03, -4.5675314e-03,\n",
       "         -2.0642325e-03,  9.7325137e-03, -6.8546589e-03, -2.1885601e-03,\n",
       "          7.0027006e-03, -5.2955802e-05, -6.2923757e-03, -6.3918512e-03,\n",
       "          8.9441026e-03,  6.4283307e-03,  4.7790534e-03, -3.2585978e-03,\n",
       "         -9.2686685e-03,  3.7852447e-03,  7.1587632e-03, -5.6356196e-03,\n",
       "         -7.8604799e-03, -2.9719344e-03, -4.9338443e-03, -2.3091009e-03],\n",
       "        dtype=float32)]]"
      ]
     },
     "execution_count": 49,
     "metadata": {},
     "output_type": "execute_result"
    }
   ],
   "source": [
    "data"
   ]
  },
  {
   "cell_type": "code",
   "execution_count": 58,
   "metadata": {},
   "outputs": [
    {
     "data": {
      "text/plain": [
       "3"
      ]
     },
     "execution_count": 58,
     "metadata": {},
     "output_type": "execute_result"
    }
   ],
   "source": [
    "len(data)"
   ]
  },
  {
   "cell_type": "code",
   "execution_count": 59,
   "metadata": {},
   "outputs": [
    {
     "data": {
      "text/plain": [
       "2"
      ]
     },
     "execution_count": 59,
     "metadata": {},
     "output_type": "execute_result"
    }
   ],
   "source": [
    "len(data[0])"
   ]
  },
  {
   "cell_type": "code",
   "execution_count": 60,
   "metadata": {},
   "outputs": [
    {
     "data": {
      "text/plain": [
       "[array([ 8.1693530e-03, -4.4424967e-03,  8.9852214e-03,  8.2536135e-03,\n",
       "        -4.4353902e-03,  3.0241191e-04,  4.2745322e-03, -3.9266776e-03,\n",
       "        -5.5602933e-03, -6.5135299e-03, -6.6985562e-04, -2.9506299e-04,\n",
       "         4.4629988e-03, -2.4744093e-03, -1.7139514e-04,  2.4623820e-03,\n",
       "         4.8689600e-03, -3.1117946e-05, -6.3400054e-03, -9.2621362e-03,\n",
       "         2.6943893e-05,  6.6615203e-03,  1.4670712e-03, -8.9669479e-03,\n",
       "        -7.9381913e-03,  6.5520909e-03, -3.7867506e-03,  6.2539754e-03,\n",
       "        -6.6802753e-03,  8.4803579e-03, -6.5157204e-03,  3.2886867e-03,\n",
       "        -1.0567167e-03, -6.7876372e-03, -3.2876898e-03, -1.1616098e-03,\n",
       "        -5.4721525e-03, -1.2111445e-03, -7.5635971e-03,  2.6450334e-03,\n",
       "         9.0694204e-03, -2.3773636e-03, -9.7476749e-04,  3.5129883e-03,\n",
       "         8.6645139e-03, -5.9219110e-03, -6.8874871e-03, -2.9331418e-03,\n",
       "         9.1473395e-03,  8.6730585e-04, -8.6782174e-03, -1.4478377e-03,\n",
       "         9.4779180e-03, -7.5491238e-03, -5.3589093e-03,  9.3162311e-03,\n",
       "        -8.9734495e-03,  3.8262166e-03,  6.6430384e-04,  6.6604549e-03,\n",
       "         8.3128037e-03, -2.8500976e-03, -3.9914288e-03,  8.8984985e-03,\n",
       "         2.0893081e-03,  6.2500578e-03, -9.4454400e-03,  9.5897028e-03,\n",
       "        -1.3488920e-03, -6.0530682e-03,  2.9927695e-03, -4.5615924e-04,\n",
       "         4.7058552e-03, -2.2821864e-03, -4.1372562e-03,  2.2775747e-03,\n",
       "         8.3543332e-03, -4.9947128e-03,  2.6682301e-03, -7.9899188e-03,\n",
       "        -6.7721470e-03, -4.6734506e-04, -8.7680770e-03,  2.7897134e-03,\n",
       "         1.5998117e-03, -2.3196808e-03,  5.0044423e-03,  9.7488211e-03,\n",
       "         8.4544029e-03, -1.8804831e-03,  2.0588078e-03, -4.0033553e-03,\n",
       "        -8.2420558e-03,  6.2787309e-03, -1.9490051e-03, -6.6671195e-04,\n",
       "        -1.7714149e-03, -4.5371093e-03,  4.0605217e-03, -4.2698667e-03],\n",
       "       dtype=float32),\n",
       " array([ 9.7660916e-03,  8.1730271e-03,  1.2783010e-03,  5.0980113e-03,\n",
       "         1.4060455e-03, -6.4592040e-03, -1.4336691e-03,  6.4479471e-03,\n",
       "        -4.6211681e-03, -3.9934567e-03,  4.9211313e-03,  2.7139890e-03,\n",
       "        -1.8545939e-03, -2.8804429e-03,  6.0154372e-03, -5.7157530e-03,\n",
       "        -3.2343881e-03, -6.4854696e-03, -4.2347577e-03, -8.5863052e-03,\n",
       "        -4.4684857e-03, -8.5100997e-03,  1.4064810e-03, -8.6176069e-03,\n",
       "        -9.9166110e-03, -8.1982780e-03, -6.7796209e-03,  6.6819051e-03,\n",
       "         3.7851075e-03,  3.5918539e-04, -2.9571771e-03, -7.4291090e-03,\n",
       "         5.3766824e-04,  4.9750111e-04,  1.9736374e-04,  8.5058867e-04,\n",
       "         7.8352710e-04, -6.4013737e-05, -8.0097895e-03, -5.8697653e-03,\n",
       "        -8.3840089e-03, -1.3150296e-03,  1.8212562e-03,  7.4242232e-03,\n",
       "        -1.9637719e-03, -2.3293255e-03,  9.4863744e-03,  7.7526871e-05,\n",
       "        -2.4009668e-03,  8.6036930e-03,  2.6868226e-03, -5.3448621e-03,\n",
       "         6.5894304e-03,  4.5115459e-03, -7.0577520e-03, -3.2075454e-04,\n",
       "         8.3805999e-04,  5.7480466e-03, -1.7169291e-03, -2.8005391e-03,\n",
       "         1.7518512e-03,  8.4891031e-04,  1.1949332e-03, -2.6297797e-03,\n",
       "        -5.9818737e-03,  7.3236902e-03,  7.5940145e-03,  8.3037838e-03,\n",
       "        -8.5979579e-03,  2.6379940e-03, -3.5629859e-03,  9.6200192e-03,\n",
       "         2.9023534e-03,  4.6420889e-03,  2.3911921e-03,  6.6173007e-03,\n",
       "        -5.7439920e-03,  7.8982152e-03, -2.4093732e-03, -4.5675314e-03,\n",
       "        -2.0642325e-03,  9.7325137e-03, -6.8546589e-03, -2.1885601e-03,\n",
       "         7.0027006e-03, -5.2955802e-05, -6.2923757e-03, -6.3918512e-03,\n",
       "         8.9441026e-03,  6.4283307e-03,  4.7790534e-03, -3.2585978e-03,\n",
       "        -9.2686685e-03,  3.7852447e-03,  7.1587632e-03, -5.6356196e-03,\n",
       "        -7.8604799e-03, -2.9719344e-03, -4.9338443e-03, -2.3091009e-03],\n",
       "       dtype=float32)]"
      ]
     },
     "execution_count": 60,
     "metadata": {},
     "output_type": "execute_result"
    }
   ],
   "source": [
    "vectors_to_search = data[-1][-2:]\n",
    "vectors_to_search"
   ]
  },
  {
   "cell_type": "markdown",
   "metadata": {},
   "source": [
    "# performs a vector similarity search:\n",
    "Euclidean distance (L2) <br>\n",
    "vectors_to_search -> Vectors to search with. <br>\n",
    "embeddings -> Name of the field to search on. <br>\n",
    "search_param -> metric_type -> which metric used to measure the similarity of vectorss. <br>\n",
    "                params -> nprobe Indicates the number of cluster units to search. <br>\n",
    "                This parameter is available only when index_type is set to IVF_FLAT, IVF_SQ8, or IVF_PQ.<br>\n",
    "<br>\n",
    "limit -> Number of the most similar results to return.<br>\n",
    "output_fields -> Name of the field to return. Vector field is not supported in current release.<br>\n",
    "\n",
    "\n",
    "\n"
   ]
  },
  {
   "cell_type": "code",
   "execution_count": 61,
   "metadata": {},
   "outputs": [
    {
     "data": {
      "text/plain": [
       "<pymilvus.orm.search.SearchResult at 0x7ff6fcdb7e90>"
      ]
     },
     "execution_count": 61,
     "metadata": {},
     "output_type": "execute_result"
    }
   ],
   "source": [
    "vectors_to_search = data[-1][-2:]\n",
    "search_params = {\n",
    "    \"metric_type\": \"L2\",\n",
    "    \"params\": {\"nprobe\": 10},\n",
    "}\n",
    "result = demo_2.search(vectors_to_search, \"embeddings\", search_params, limit=3, output_fields=[\"words\"])\n",
    "result\n"
   ]
  },
  {
   "cell_type": "code",
   "execution_count": 68,
   "metadata": {},
   "outputs": [
    {
     "data": {
      "text/plain": [
       "[1, 2]"
      ]
     },
     "execution_count": 68,
     "metadata": {},
     "output_type": "execute_result"
    }
   ],
   "source": [
    "# get the IDs of all returned hits\n",
    "result[0].ids"
   ]
  },
  {
   "cell_type": "code",
   "execution_count": 69,
   "metadata": {},
   "outputs": [
    {
     "data": {
      "text/plain": [
       "[0.0, 0.005495465360581875]"
      ]
     },
     "execution_count": 69,
     "metadata": {},
     "output_type": "execute_result"
    }
   ],
   "source": [
    "# get the distances to the query vector from all returned hits\n",
    "result[0].distances"
   ]
  },
  {
   "cell_type": "code",
   "execution_count": 70,
   "metadata": {},
   "outputs": [
    {
     "data": {
      "text/plain": [
       "'puppy'"
      ]
     },
     "execution_count": 70,
     "metadata": {},
     "output_type": "execute_result"
    }
   ],
   "source": [
    "# get the value of an output field specified in the search request.\n",
    "hit = result[0][0]\n",
    "hit.entity.get('words')"
   ]
  },
  {
   "cell_type": "code",
   "execution_count": 66,
   "metadata": {},
   "outputs": [
    {
     "data": {
      "text/plain": [
       "[0.0, 0.005495465360581875]"
      ]
     },
     "execution_count": 66,
     "metadata": {},
     "output_type": "execute_result"
    }
   ],
   "source": [
    "result[0].distances"
   ]
  },
  {
   "cell_type": "code",
   "execution_count": 71,
   "metadata": {},
   "outputs": [],
   "source": [
    "from sklearn.metrics.pairwise import cosine_similarity"
   ]
  },
  {
   "cell_type": "code",
   "execution_count": 72,
   "metadata": {},
   "outputs": [
    {
     "name": "stdout",
     "output_type": "stream",
     "text": [
      "Cosine similarity :  0.11131189\n"
     ]
    }
   ],
   "source": [
    "similarity = cosine_similarity(embedding_1.reshape(1,-1), embedding_2.reshape(1,-1))[0][0]\n",
    "\n",
    "print(\"Cosine similarity : \", similarity)"
   ]
  },
  {
   "cell_type": "code",
   "execution_count": null,
   "metadata": {},
   "outputs": [],
   "source": [
    "# Performs a vector query:\n",
    "result = demo_2.query(expr=\"random > -14\", output_fields=[\"random\", \"embeddings\"])"
   ]
  },
  {
   "cell_type": "code",
   "execution_count": null,
   "metadata": {},
   "outputs": [],
   "source": [
    "# Release the collection loaded in Milvus to reduce memory consumption when the search is completed.\n",
    "demo_2.release()"
   ]
  },
  {
   "cell_type": "code",
   "execution_count": 85,
   "metadata": {},
   "outputs": [],
   "source": [
    "fields = [\n",
    "    FieldSchema(name=\"pk\", dtype=DataType.INT64, is_primary=True, auto_id=False),\n",
    "    FieldSchema(name=\"words\", dtype=DataType.VARCHAR, max_length=50),\n",
    "    FieldSchema(name=\"embeddings\", dtype=DataType.FLOAT_VECTOR, dim=300)\n",
    "]\n",
    "schema = CollectionSchema(fields, \"Simple Demo for storing and retrieve embedding from Google\")\n",
    "demo_3 = Collection(\"demo_3\", schema)"
   ]
  },
  {
   "cell_type": "code",
   "execution_count": 76,
   "metadata": {},
   "outputs": [],
   "source": [
    "import gensim.downloader as api\n",
    "\n",
    "# Load a pre-trained Word2Vec model using the Gensim downloader\n",
    "model = api.load(\"word2vec-google-news-300\")"
   ]
  },
  {
   "cell_type": "code",
   "execution_count": 79,
   "metadata": {},
   "outputs": [
    {
     "data": {
      "text/plain": [
       "(300,)"
      ]
     },
     "execution_count": 79,
     "metadata": {},
     "output_type": "execute_result"
    }
   ],
   "source": [
    "dog = model['dog']\n",
    "dog.shape"
   ]
  },
  {
   "cell_type": "code",
   "execution_count": 80,
   "metadata": {},
   "outputs": [],
   "source": [
    "puppy = model['puppy']"
   ]
  },
  {
   "cell_type": "code",
   "execution_count": 87,
   "metadata": {},
   "outputs": [],
   "source": [
    "king = model['king']\n",
    "queen = model['queen']\n",
    "book = model['book']\n",
    "lion = model['lion']\n",
    "jungle = model['jungle']\n",
    "tiger = model['tiger']\n",
    "study = model['study']"
   ]
  },
  {
   "cell_type": "code",
   "execution_count": 88,
   "metadata": {},
   "outputs": [],
   "source": [
    "#Insert data in collection\n",
    "data = [\n",
    "    [1,2,3,4,5,6,7,8,9],  # field pk\n",
    "    ['puppy','dog','king','queen','book','lion','jungle','tiger','study'],  # field words\n",
    "    [puppy, dog, king, queen, book, lion, jungle, tiger, study],  # field embeddings\n",
    "]\n",
    "insert_result = demo_3.insert(data)\n",
    "# After final entity is inserted, it is best to call flush to have no growing segments left in memory\n",
    "demo_3.flush() "
   ]
  },
  {
   "cell_type": "code",
   "execution_count": 89,
   "metadata": {},
   "outputs": [
    {
     "data": {
      "text/plain": [
       "Status(code=0, message=)"
      ]
     },
     "execution_count": 89,
     "metadata": {},
     "output_type": "execute_result"
    }
   ],
   "source": [
    "# Builds indexes on the entities:\n",
    "\n",
    "index = {\n",
    "    \"index_type\": \"IVF_FLAT\",\n",
    "    \"metric_type\": \"L2\",\n",
    "    \"params\": {\"nlist\": 128},\n",
    "}\n",
    "demo_3.create_index(\"embeddings\", index)\n",
    "\n",
    "\n"
   ]
  },
  {
   "cell_type": "code",
   "execution_count": 90,
   "metadata": {},
   "outputs": [],
   "source": [
    "demo_3.load()"
   ]
  },
  {
   "cell_type": "code",
   "execution_count": 91,
   "metadata": {},
   "outputs": [],
   "source": [
    "# performs a vector similarity search:\n",
    "data = [dog]\n",
    "search_params = {\n",
    "    \"metric_type\": \"L2\",\n",
    "    \"params\": {\"nprobe\": 10},\n",
    "}\n",
    "result = demo_3.search(data, \"embeddings\", search_params, limit=3, output_fields=[\"words\"])\n",
    "\n",
    "\n"
   ]
  },
  {
   "cell_type": "code",
   "execution_count": 92,
   "metadata": {},
   "outputs": [
    {
     "data": {
      "text/plain": [
       "[2, 1, 6]"
      ]
     },
     "execution_count": 92,
     "metadata": {},
     "output_type": "execute_result"
    }
   ],
   "source": [
    "result[0].ids"
   ]
  },
  {
   "cell_type": "markdown",
   "metadata": {},
   "source": [
    "vector similarity search: <br><br>\n",
    "A vector similarity search in Milvus calculates the distance between query vector(s) and vectors in the <br>collection with specified similarity metrics, and returns the most similar results. <br>\n",
    "https://milvus.io/docs/search.md"
   ]
  },
  {
   "cell_type": "code",
   "execution_count": 100,
   "metadata": {},
   "outputs": [],
   "source": [
    "# performs a vector similarity search:\n",
    "data = [dog]\n",
    "search_params = {\n",
    "    \"metric_type\": \"L2\",\n",
    "    \"params\": {\"nprobe\": 10},\n",
    "}\n",
    "result = demo_3.search(data, \"embeddings\", search_params, limit=5, output_fields=[\"words\"])\n",
    "\n",
    "\n",
    "\n"
   ]
  },
  {
   "cell_type": "code",
   "execution_count": 101,
   "metadata": {},
   "outputs": [
    {
     "data": {
      "text/plain": [
       "[2, 1, 6, 8, 5]"
      ]
     },
     "execution_count": 101,
     "metadata": {},
     "output_type": "execute_result"
    }
   ],
   "source": [
    "result[0].ids"
   ]
  },
  {
   "cell_type": "code",
   "execution_count": 102,
   "metadata": {},
   "outputs": [
    {
     "data": {
      "text/plain": [
       "[0.0, 3.7864410877227783, 11.244926452636719, 11.9305419921875, 13.925182342529297]"
      ]
     },
     "execution_count": 102,
     "metadata": {},
     "output_type": "execute_result"
    }
   ],
   "source": [
    "result[0].distances"
   ]
  },
  {
   "cell_type": "code",
   "execution_count": 108,
   "metadata": {},
   "outputs": [
    {
     "name": "stdout",
     "output_type": "stream",
     "text": [
      "dog\n",
      "puppy\n",
      "lion\n",
      "tiger\n",
      "book\n"
     ]
    }
   ],
   "source": [
    "# get the value of an output field specified in the search request.\n",
    "for i in range(0,5):\n",
    "    hit = result[0][i]\n",
    "    print(hit.entity.get('words'))\n",
    "    "
   ]
  },
  {
   "cell_type": "markdown",
   "metadata": {},
   "source": [
    "Performs a vector query:<br><br>\n",
    "Unlike a vector similarity search, a vector query retrieves vectors via scalar filtering based on boolean <br> expression. Milvus supports many data types in the scalar fields and a variety of boolean expressions. The <br>boolean expression filters on scalar fields or the primary key field, and it retrieves all results that <br>match the filters. <br>\n",
    "https://milvus.io/docs/query.md <br>\n",
    "\n",
    "For example<br>\n",
    "<br>\n",
    "res = collection.query( <br>\n",
    "  expr = \"book_id in [2,4,6,8]\", <br>\n",
    "  offset = 0, <br>\n",
    "  limit = 10, <br>\n",
    "  output_fields = [\"book_id\", \"book_intro\"], <br>\n",
    "  consistency_level=\"Strong\"<br>\n",
    ")<br>"
   ]
  },
  {
   "cell_type": "code",
   "execution_count": 116,
   "metadata": {},
   "outputs": [],
   "source": [
    "result = demo_3.query(expr=\"pk > 5\", output_fields=[\"pk\",\"words\", \"embeddings\"])"
   ]
  },
  {
   "cell_type": "code",
   "execution_count": 117,
   "metadata": {},
   "outputs": [
    {
     "data": {
      "text/plain": [
       "{'words': 'lion',\n",
       " 'embeddings': [0.21289062,\n",
       "  -0.0045776367,\n",
       "  -0.23632812,\n",
       "  0.045654297,\n",
       "  0.13476562,\n",
       "  -0.13671875,\n",
       "  -0.014099121,\n",
       "  -0.122558594,\n",
       "  0.038085938,\n",
       "  -0.0021209717,\n",
       "  -0.15722656,\n",
       "  0.00592041,\n",
       "  -0.1875,\n",
       "  -0.09863281,\n",
       "  -0.46484375,\n",
       "  -0.032714844,\n",
       "  -0.25195312,\n",
       "  0.015014648,\n",
       "  -0.23730469,\n",
       "  -0.10546875,\n",
       "  -0.064453125,\n",
       "  -0.21972656,\n",
       "  0.38085938,\n",
       "  -0.067871094,\n",
       "  0.16796875,\n",
       "  0.13183594,\n",
       "  -0.36523438,\n",
       "  0.09082031,\n",
       "  0.19433594,\n",
       "  0.0021209717,\n",
       "  -0.125,\n",
       "  -0.10107422,\n",
       "  -0.020507812,\n",
       "  0.1796875,\n",
       "  -0.06298828,\n",
       "  -0.100097656,\n",
       "  -0.3828125,\n",
       "  0.2734375,\n",
       "  0.18945312,\n",
       "  0.26171875,\n",
       "  0.21484375,\n",
       "  -0.203125,\n",
       "  0.15625,\n",
       "  0.21582031,\n",
       "  0.106933594,\n",
       "  -0.03125,\n",
       "  0.24121094,\n",
       "  -0.012023926,\n",
       "  0.32421875,\n",
       "  -0.18652344,\n",
       "  -0.111328125,\n",
       "  0.037109375,\n",
       "  0.051757812,\n",
       "  -0.16796875,\n",
       "  -0.05444336,\n",
       "  -0.0028839111,\n",
       "  -0.029663086,\n",
       "  -0.12011719,\n",
       "  0.3671875,\n",
       "  -0.029174805,\n",
       "  -0.09863281,\n",
       "  0.016113281,\n",
       "  -0.091308594,\n",
       "  -0.22558594,\n",
       "  0.16699219,\n",
       "  -0.18066406,\n",
       "  -0.075683594,\n",
       "  -0.22167969,\n",
       "  -0.22851562,\n",
       "  0.21875,\n",
       "  0.20703125,\n",
       "  0.140625,\n",
       "  0.14648438,\n",
       "  0.12060547,\n",
       "  0.13183594,\n",
       "  0.00038146973,\n",
       "  -0.016967773,\n",
       "  -0.032226562,\n",
       "  -0.115234375,\n",
       "  -0.045410156,\n",
       "  0.24609375,\n",
       "  -0.23242188,\n",
       "  0.14648438,\n",
       "  -0.030151367,\n",
       "  -0.57421875,\n",
       "  -0.18847656,\n",
       "  -0.18066406,\n",
       "  -0.091308594,\n",
       "  0.0030975342,\n",
       "  -0.079589844,\n",
       "  0.19042969,\n",
       "  0.15722656,\n",
       "  -0.13671875,\n",
       "  -0.03125,\n",
       "  0.080078125,\n",
       "  0.030273438,\n",
       "  -0.24609375,\n",
       "  0.109375,\n",
       "  0.16210938,\n",
       "  -0.25585938,\n",
       "  -0.10107422,\n",
       "  -0.12988281,\n",
       "  -0.23242188,\n",
       "  -0.08300781,\n",
       "  0.061279297,\n",
       "  -0.31054688,\n",
       "  -0.064453125,\n",
       "  -0.01940918,\n",
       "  0.23535156,\n",
       "  -0.061767578,\n",
       "  -0.009277344,\n",
       "  0.041015625,\n",
       "  0.34570312,\n",
       "  0.3125,\n",
       "  0.14257812,\n",
       "  -0.031982422,\n",
       "  -0.14355469,\n",
       "  -0.28710938,\n",
       "  -0.34179688,\n",
       "  -0.0625,\n",
       "  0.0063171387,\n",
       "  -0.36132812,\n",
       "  -0.14550781,\n",
       "  -0.31054688,\n",
       "  -0.31835938,\n",
       "  0.08251953,\n",
       "  0.11230469,\n",
       "  0.0009460449,\n",
       "  -0.080566406,\n",
       "  -0.16113281,\n",
       "  -0.13085938,\n",
       "  0.049316406,\n",
       "  -0.21777344,\n",
       "  0.21191406,\n",
       "  -0.025756836,\n",
       "  -0.13183594,\n",
       "  -0.024780273,\n",
       "  0.09082031,\n",
       "  -0.005065918,\n",
       "  0.20996094,\n",
       "  0.07080078,\n",
       "  -0.18945312,\n",
       "  0.03930664,\n",
       "  0.14746094,\n",
       "  0.08203125,\n",
       "  -0.1484375,\n",
       "  -0.1484375,\n",
       "  0.047851562,\n",
       "  0.013183594,\n",
       "  -0.072265625,\n",
       "  0.24707031,\n",
       "  0.26171875,\n",
       "  -0.15722656,\n",
       "  0.14453125,\n",
       "  -0.10058594,\n",
       "  0.033935547,\n",
       "  0.0017242432,\n",
       "  0.04272461,\n",
       "  0.13574219,\n",
       "  -0.061767578,\n",
       "  0.019897461,\n",
       "  0.045898438,\n",
       "  0.03112793,\n",
       "  -0.15917969,\n",
       "  -0.24121094,\n",
       "  0.14941406,\n",
       "  0.27539062,\n",
       "  0.06640625,\n",
       "  -0.06225586,\n",
       "  0.19824219,\n",
       "  -0.30859375,\n",
       "  0.16210938,\n",
       "  0.049560547,\n",
       "  0.07519531,\n",
       "  -0.2734375,\n",
       "  -0.022949219,\n",
       "  0.23242188,\n",
       "  0.09863281,\n",
       "  -0.10058594,\n",
       "  -0.22460938,\n",
       "  -0.29882812,\n",
       "  -0.12402344,\n",
       "  0.09765625,\n",
       "  -0.020019531,\n",
       "  -0.27734375,\n",
       "  -0.025512695,\n",
       "  0.18554688,\n",
       "  0.11035156,\n",
       "  0.18261719,\n",
       "  0.36914062,\n",
       "  0.10107422,\n",
       "  -0.24707031,\n",
       "  -0.28125,\n",
       "  0.087402344,\n",
       "  -0.057861328,\n",
       "  0.12402344,\n",
       "  -0.06542969,\n",
       "  -0.23925781,\n",
       "  -0.15332031,\n",
       "  0.24121094,\n",
       "  0.012878418,\n",
       "  0.10498047,\n",
       "  0.40234375,\n",
       "  -0.119628906,\n",
       "  0.014099121,\n",
       "  0.045166016,\n",
       "  0.10449219,\n",
       "  -0.04638672,\n",
       "  0.10107422,\n",
       "  -0.115234375,\n",
       "  -0.3984375,\n",
       "  -0.017944336,\n",
       "  -0.09082031,\n",
       "  -0.18066406,\n",
       "  -0.22851562,\n",
       "  0.13183594,\n",
       "  0.28320312,\n",
       "  0.027709961,\n",
       "  0.19042969,\n",
       "  -0.15917969,\n",
       "  0.033203125,\n",
       "  -0.02355957,\n",
       "  -0.10595703,\n",
       "  -0.29101562,\n",
       "  -0.026611328,\n",
       "  0.010559082,\n",
       "  0.03540039,\n",
       "  -0.21484375,\n",
       "  0.4921875,\n",
       "  0.028808594,\n",
       "  -0.08691406,\n",
       "  -0.19238281,\n",
       "  -0.26171875,\n",
       "  0.21386719,\n",
       "  -0.08105469,\n",
       "  -0.075683594,\n",
       "  0.07324219,\n",
       "  -0.064941406,\n",
       "  0.041015625,\n",
       "  -0.019165039,\n",
       "  0.09277344,\n",
       "  -0.16796875,\n",
       "  -0.17773438,\n",
       "  -0.053955078,\n",
       "  0.36523438,\n",
       "  -0.30664062,\n",
       "  0.34960938,\n",
       "  -0.07421875,\n",
       "  -0.07714844,\n",
       "  0.119628906,\n",
       "  0.099121094,\n",
       "  0.20019531,\n",
       "  -0.076660156,\n",
       "  -0.203125,\n",
       "  0.05517578,\n",
       "  0.16699219,\n",
       "  -0.107421875,\n",
       "  -0.009887695,\n",
       "  -0.51171875,\n",
       "  -0.20507812,\n",
       "  -0.18066406,\n",
       "  0.08300781,\n",
       "  -0.11328125,\n",
       "  0.17871094,\n",
       "  0.12988281,\n",
       "  0.22460938,\n",
       "  -0.27148438,\n",
       "  0.20703125,\n",
       "  -0.08935547,\n",
       "  0.22851562,\n",
       "  -0.08496094,\n",
       "  -0.006958008,\n",
       "  0.29492188,\n",
       "  0.008483887,\n",
       "  0.31054688,\n",
       "  -0.075683594,\n",
       "  -0.25390625,\n",
       "  0.14257812,\n",
       "  -0.106933594,\n",
       "  0.03491211,\n",
       "  0.22070312,\n",
       "  0.09082031,\n",
       "  -0.18164062,\n",
       "  0.06738281,\n",
       "  -0.020507812,\n",
       "  0.119140625,\n",
       "  0.19921875,\n",
       "  0.16992188,\n",
       "  0.43164062,\n",
       "  -0.12597656,\n",
       "  -0.018554688,\n",
       "  -0.1328125,\n",
       "  0.15039062,\n",
       "  -0.20214844,\n",
       "  -0.032470703,\n",
       "  0.13574219,\n",
       "  0.096191406,\n",
       "  -0.13867188,\n",
       "  -0.19921875,\n",
       "  0.17675781],\n",
       " 'pk': 6}"
      ]
     },
     "execution_count": 117,
     "metadata": {},
     "output_type": "execute_result"
    }
   ],
   "source": [
    "result[0]"
   ]
  },
  {
   "cell_type": "code",
   "execution_count": 120,
   "metadata": {},
   "outputs": [
    {
     "data": {
      "text/plain": [
       "6"
      ]
     },
     "execution_count": 120,
     "metadata": {},
     "output_type": "execute_result"
    }
   ],
   "source": [
    "result[0][\"pk\"]"
   ]
  },
  {
   "cell_type": "code",
   "execution_count": 129,
   "metadata": {},
   "outputs": [
    {
     "data": {
      "text/plain": [
       "4"
      ]
     },
     "execution_count": 129,
     "metadata": {},
     "output_type": "execute_result"
    }
   ],
   "source": [
    "len(result)"
   ]
  },
  {
   "cell_type": "code",
   "execution_count": 130,
   "metadata": {},
   "outputs": [
    {
     "name": "stdout",
     "output_type": "stream",
     "text": [
      "6 lion\n",
      "7 jungle\n",
      "8 tiger\n",
      "9 study\n"
     ]
    }
   ],
   "source": [
    "for i in range(0,len(result)):\n",
    "    id = result[i][\"pk\"]\n",
    "    name = result[i][\"words\"]\n",
    "    print(id, name)"
   ]
  },
  {
   "cell_type": "code",
   "execution_count": 133,
   "metadata": {},
   "outputs": [
    {
     "name": "stdout",
     "output_type": "stream",
     "text": [
      "7 jungle\n",
      "6 lion\n",
      "9 study\n",
      "8 tiger\n"
     ]
    }
   ],
   "source": [
    "# Sorting the result\n",
    "sorted_res = sorted(result, key=lambda k: k['words'])\n",
    "for i in range(0,len(sorted_res)):\n",
    "    id = sorted_res[i][\"pk\"]\n",
    "    name = sorted_res[i][\"words\"]\n",
    "    print(id, name)"
   ]
  },
  {
   "cell_type": "markdown",
   "metadata": {},
   "source": [
    "Hybrid Search <br>\n",
    "By specifying the boolean expression, you can filter the scalar field of the entities during the vector search. <br>"
   ]
  },
  {
   "cell_type": "code",
   "execution_count": null,
   "metadata": {},
   "outputs": [],
   "source": [
    "# Performs a hybrid search:\n",
    "result = hello_milvus.search(vectors_to_search, \"embeddings\", search_params, limit=3, expr=\"random > -12\", output_fields=[\"random\"])\n",
    "\n"
   ]
  },
  {
   "cell_type": "code",
   "execution_count": 134,
   "metadata": {},
   "outputs": [
    {
     "data": {
      "text/plain": [
       "{'auto_id': False, 'description': 'Simple Demo for storing and retrieve embedding from Google', 'fields': [{'name': 'pk', 'description': '', 'type': <DataType.INT64: 5>, 'is_primary': True, 'auto_id': False}, {'name': 'words', 'description': '', 'type': <DataType.VARCHAR: 21>, 'params': {'max_length': 50}}, {'name': 'embeddings', 'description': '', 'type': <DataType.FLOAT_VECTOR: 101>, 'params': {'dim': 300}}]}"
      ]
     },
     "execution_count": 134,
     "metadata": {},
     "output_type": "execute_result"
    }
   ],
   "source": [
    "demo_3.schema"
   ]
  },
  {
   "cell_type": "code",
   "execution_count": 135,
   "metadata": {},
   "outputs": [
    {
     "data": {
      "text/plain": [
       "'Simple Demo for storing and retrieve embedding from Google'"
      ]
     },
     "execution_count": 135,
     "metadata": {},
     "output_type": "execute_result"
    }
   ],
   "source": [
    "demo_3.description"
   ]
  },
  {
   "cell_type": "code",
   "execution_count": 136,
   "metadata": {},
   "outputs": [
    {
     "data": {
      "text/plain": [
       "{'name': 'pk', 'description': '', 'type': <DataType.INT64: 5>, 'is_primary': True, 'auto_id': False}"
      ]
     },
     "execution_count": 136,
     "metadata": {},
     "output_type": "execute_result"
    }
   ],
   "source": [
    "demo_3.primary_field"
   ]
  },
  {
   "cell_type": "code",
   "execution_count": 137,
   "metadata": {},
   "outputs": [
    {
     "data": {
      "text/plain": [
       "[<pymilvus.orm.index.Index at 0x7ff6cfbbfbd0>]"
      ]
     },
     "execution_count": 137,
     "metadata": {},
     "output_type": "execute_result"
    }
   ],
   "source": [
    "demo_3.indexes"
   ]
  },
  {
   "cell_type": "code",
   "execution_count": 138,
   "metadata": {},
   "outputs": [
    {
     "data": {
      "text/plain": [
       "['demo_2', 'demo_4', 'demo_3', 'hello_milvus', 'demo']"
      ]
     },
     "execution_count": 138,
     "metadata": {},
     "output_type": "execute_result"
    }
   ],
   "source": [
    "# list all collections\n",
    "utility.list_collections()"
   ]
  },
  {
   "cell_type": "code",
   "execution_count": 147,
   "metadata": {},
   "outputs": [
    {
     "name": "stderr",
     "output_type": "stream",
     "text": [
      "Unexpected error: [describe_collection], invalid literal for int() with base 10: 'null', <Time: {'RPC start': '2023-07-09 21:57:12.866331', 'Exception': '2023-07-09 21:57:12.874240'}>\n"
     ]
    },
    {
     "ename": "MilvusException",
     "evalue": "<MilvusException: (code=1, message=Unexpected error, message=<invalid literal for int() with base 10: 'null'>)>",
     "output_type": "error",
     "traceback": [
      "\u001b[0;31m---------------------------------------------------------------------------\u001b[0m",
      "\u001b[0;31mValueError\u001b[0m                                Traceback (most recent call last)",
      "\u001b[0;32m~/Documents/software/anaconda/anaconda3/lib/python3.7/site-packages/pymilvus/decorators.py\u001b[0m in \u001b[0;36mhandler\u001b[0;34m(*args, **kwargs)\u001b[0m\n\u001b[1;32m    104\u001b[0m                 \u001b[0mrecord_dict\u001b[0m\u001b[0;34m[\u001b[0m\u001b[0;34m\"RPC start\"\u001b[0m\u001b[0;34m]\u001b[0m \u001b[0;34m=\u001b[0m \u001b[0mstr\u001b[0m\u001b[0;34m(\u001b[0m\u001b[0mdatetime\u001b[0m\u001b[0;34m.\u001b[0m\u001b[0mdatetime\u001b[0m\u001b[0;34m.\u001b[0m\u001b[0mnow\u001b[0m\u001b[0;34m(\u001b[0m\u001b[0;34m)\u001b[0m\u001b[0;34m)\u001b[0m\u001b[0;34m\u001b[0m\u001b[0;34m\u001b[0m\u001b[0m\n\u001b[0;32m--> 105\u001b[0;31m                 \u001b[0;32mreturn\u001b[0m \u001b[0mfunc\u001b[0m\u001b[0;34m(\u001b[0m\u001b[0;34m*\u001b[0m\u001b[0margs\u001b[0m\u001b[0;34m,\u001b[0m \u001b[0;34m**\u001b[0m\u001b[0mkwargs\u001b[0m\u001b[0;34m)\u001b[0m\u001b[0;34m\u001b[0m\u001b[0;34m\u001b[0m\u001b[0m\n\u001b[0m\u001b[1;32m    106\u001b[0m             \u001b[0;32mexcept\u001b[0m \u001b[0mMilvusException\u001b[0m \u001b[0;32mas\u001b[0m \u001b[0me\u001b[0m\u001b[0;34m:\u001b[0m\u001b[0;34m\u001b[0m\u001b[0;34m\u001b[0m\u001b[0m\n",
      "\u001b[0;32m~/Documents/software/anaconda/anaconda3/lib/python3.7/site-packages/pymilvus/decorators.py\u001b[0m in \u001b[0;36mhandler\u001b[0;34m(self, *args, **kwargs)\u001b[0m\n\u001b[1;32m    135\u001b[0m                 \u001b[0mself\u001b[0m\u001b[0;34m.\u001b[0m\u001b[0mset_onetime_request_id\u001b[0m\u001b[0;34m(\u001b[0m\u001b[0mreq_id\u001b[0m\u001b[0;34m)\u001b[0m\u001b[0;34m\u001b[0m\u001b[0;34m\u001b[0m\u001b[0m\n\u001b[0;32m--> 136\u001b[0;31m             \u001b[0mret\u001b[0m \u001b[0;34m=\u001b[0m \u001b[0mfunc\u001b[0m\u001b[0;34m(\u001b[0m\u001b[0mself\u001b[0m\u001b[0;34m,\u001b[0m \u001b[0;34m*\u001b[0m\u001b[0margs\u001b[0m\u001b[0;34m,\u001b[0m \u001b[0;34m**\u001b[0m\u001b[0mkwargs\u001b[0m\u001b[0;34m)\u001b[0m\u001b[0;34m\u001b[0m\u001b[0;34m\u001b[0m\u001b[0m\n\u001b[0m\u001b[1;32m    137\u001b[0m             \u001b[0;32mreturn\u001b[0m \u001b[0mret\u001b[0m\u001b[0;34m\u001b[0m\u001b[0;34m\u001b[0m\u001b[0m\n",
      "\u001b[0;32m~/Documents/software/anaconda/anaconda3/lib/python3.7/site-packages/pymilvus/decorators.py\u001b[0m in \u001b[0;36mhandler\u001b[0;34m(self, *args, **kwargs)\u001b[0m\n\u001b[1;32m     86\u001b[0m                 \u001b[0;32mexcept\u001b[0m \u001b[0mException\u001b[0m \u001b[0;32mas\u001b[0m \u001b[0me\u001b[0m\u001b[0;34m:\u001b[0m\u001b[0;34m\u001b[0m\u001b[0;34m\u001b[0m\u001b[0m\n\u001b[0;32m---> 87\u001b[0;31m                     \u001b[0;32mraise\u001b[0m \u001b[0me\u001b[0m\u001b[0;34m\u001b[0m\u001b[0;34m\u001b[0m\u001b[0m\n\u001b[0m\u001b[1;32m     88\u001b[0m                 \u001b[0;32mfinally\u001b[0m\u001b[0;34m:\u001b[0m\u001b[0;34m\u001b[0m\u001b[0;34m\u001b[0m\u001b[0m\n",
      "\u001b[0;32m~/Documents/software/anaconda/anaconda3/lib/python3.7/site-packages/pymilvus/decorators.py\u001b[0m in \u001b[0;36mhandler\u001b[0;34m(self, *args, **kwargs)\u001b[0m\n\u001b[1;32m     49\u001b[0m                 \u001b[0;32mtry\u001b[0m\u001b[0;34m:\u001b[0m\u001b[0;34m\u001b[0m\u001b[0;34m\u001b[0m\u001b[0m\n\u001b[0;32m---> 50\u001b[0;31m                     \u001b[0;32mreturn\u001b[0m \u001b[0mfunc\u001b[0m\u001b[0;34m(\u001b[0m\u001b[0mself\u001b[0m\u001b[0;34m,\u001b[0m \u001b[0;34m*\u001b[0m\u001b[0margs\u001b[0m\u001b[0;34m,\u001b[0m \u001b[0;34m**\u001b[0m\u001b[0mkwargs\u001b[0m\u001b[0;34m)\u001b[0m\u001b[0;34m\u001b[0m\u001b[0;34m\u001b[0m\u001b[0m\n\u001b[0m\u001b[1;32m     51\u001b[0m                 \u001b[0;32mexcept\u001b[0m \u001b[0mgrpc\u001b[0m\u001b[0;34m.\u001b[0m\u001b[0mRpcError\u001b[0m \u001b[0;32mas\u001b[0m \u001b[0me\u001b[0m\u001b[0;34m:\u001b[0m\u001b[0;34m\u001b[0m\u001b[0;34m\u001b[0m\u001b[0m\n",
      "\u001b[0;32m~/Documents/software/anaconda/anaconda3/lib/python3.7/site-packages/pymilvus/client/grpc_handler.py\u001b[0m in \u001b[0;36mdescribe_collection\u001b[0;34m(self, collection_name, timeout, **kwargs)\u001b[0m\n\u001b[1;32m    296\u001b[0m         \u001b[0;32mif\u001b[0m \u001b[0mstatus\u001b[0m\u001b[0;34m.\u001b[0m\u001b[0merror_code\u001b[0m \u001b[0;34m==\u001b[0m \u001b[0;36m0\u001b[0m\u001b[0;34m:\u001b[0m\u001b[0;34m\u001b[0m\u001b[0;34m\u001b[0m\u001b[0m\n\u001b[0;32m--> 297\u001b[0;31m             \u001b[0;32mreturn\u001b[0m \u001b[0mCollectionSchema\u001b[0m\u001b[0;34m(\u001b[0m\u001b[0mraw\u001b[0m\u001b[0;34m=\u001b[0m\u001b[0mresponse\u001b[0m\u001b[0;34m)\u001b[0m\u001b[0;34m.\u001b[0m\u001b[0mdict\u001b[0m\u001b[0;34m(\u001b[0m\u001b[0;34m)\u001b[0m\u001b[0;34m\u001b[0m\u001b[0;34m\u001b[0m\u001b[0m\n\u001b[0m\u001b[1;32m    298\u001b[0m \u001b[0;34m\u001b[0m\u001b[0m\n",
      "\u001b[0;32m~/Documents/software/anaconda/anaconda3/lib/python3.7/site-packages/pymilvus/client/abstract.py\u001b[0m in \u001b[0;36m__init__\u001b[0;34m(self, raw)\u001b[0m\n\u001b[1;32m    152\u001b[0m         \u001b[0;32mif\u001b[0m \u001b[0mself\u001b[0m\u001b[0;34m.\u001b[0m\u001b[0m_raw\u001b[0m\u001b[0;34m:\u001b[0m\u001b[0;34m\u001b[0m\u001b[0;34m\u001b[0m\u001b[0m\n\u001b[0;32m--> 153\u001b[0;31m             \u001b[0mself\u001b[0m\u001b[0;34m.\u001b[0m\u001b[0m__pack\u001b[0m\u001b[0;34m(\u001b[0m\u001b[0mself\u001b[0m\u001b[0;34m.\u001b[0m\u001b[0m_raw\u001b[0m\u001b[0;34m)\u001b[0m\u001b[0;34m\u001b[0m\u001b[0;34m\u001b[0m\u001b[0m\n\u001b[0m\u001b[1;32m    154\u001b[0m \u001b[0;34m\u001b[0m\u001b[0m\n",
      "\u001b[0;32m~/Documents/software/anaconda/anaconda3/lib/python3.7/site-packages/pymilvus/client/abstract.py\u001b[0m in \u001b[0;36m__pack\u001b[0;34m(self, raw)\u001b[0m\n\u001b[1;32m    180\u001b[0m \u001b[0;34m\u001b[0m\u001b[0m\n\u001b[0;32m--> 181\u001b[0;31m         \u001b[0mself\u001b[0m\u001b[0;34m.\u001b[0m\u001b[0mfields\u001b[0m \u001b[0;34m=\u001b[0m \u001b[0;34m[\u001b[0m\u001b[0mFieldSchema\u001b[0m\u001b[0;34m(\u001b[0m\u001b[0mf\u001b[0m\u001b[0;34m)\u001b[0m \u001b[0;32mfor\u001b[0m \u001b[0mf\u001b[0m \u001b[0;32min\u001b[0m \u001b[0mraw\u001b[0m\u001b[0;34m.\u001b[0m\u001b[0mschema\u001b[0m\u001b[0;34m.\u001b[0m\u001b[0mfields\u001b[0m\u001b[0;34m]\u001b[0m\u001b[0;34m\u001b[0m\u001b[0;34m\u001b[0m\u001b[0m\n\u001b[0m\u001b[1;32m    182\u001b[0m \u001b[0;34m\u001b[0m\u001b[0m\n",
      "\u001b[0;32m~/Documents/software/anaconda/anaconda3/lib/python3.7/site-packages/pymilvus/client/abstract.py\u001b[0m in \u001b[0;36m<listcomp>\u001b[0;34m(.0)\u001b[0m\n\u001b[1;32m    180\u001b[0m \u001b[0;34m\u001b[0m\u001b[0m\n\u001b[0;32m--> 181\u001b[0;31m         \u001b[0mself\u001b[0m\u001b[0;34m.\u001b[0m\u001b[0mfields\u001b[0m \u001b[0;34m=\u001b[0m \u001b[0;34m[\u001b[0m\u001b[0mFieldSchema\u001b[0m\u001b[0;34m(\u001b[0m\u001b[0mf\u001b[0m\u001b[0;34m)\u001b[0m \u001b[0;32mfor\u001b[0m \u001b[0mf\u001b[0m \u001b[0;32min\u001b[0m \u001b[0mraw\u001b[0m\u001b[0;34m.\u001b[0m\u001b[0mschema\u001b[0m\u001b[0;34m.\u001b[0m\u001b[0mfields\u001b[0m\u001b[0;34m]\u001b[0m\u001b[0;34m\u001b[0m\u001b[0;34m\u001b[0m\u001b[0m\n\u001b[0m\u001b[1;32m    182\u001b[0m \u001b[0;34m\u001b[0m\u001b[0m\n",
      "\u001b[0;32m~/Documents/software/anaconda/anaconda3/lib/python3.7/site-packages/pymilvus/client/abstract.py\u001b[0m in \u001b[0;36m__init__\u001b[0;34m(self, raw)\u001b[0m\n\u001b[1;32m     74\u001b[0m         \u001b[0;31m##\u001b[0m\u001b[0;34m\u001b[0m\u001b[0;34m\u001b[0m\u001b[0;34m\u001b[0m\u001b[0m\n\u001b[0;32m---> 75\u001b[0;31m         \u001b[0mself\u001b[0m\u001b[0;34m.\u001b[0m\u001b[0m__pack\u001b[0m\u001b[0;34m(\u001b[0m\u001b[0mself\u001b[0m\u001b[0;34m.\u001b[0m\u001b[0m_raw\u001b[0m\u001b[0;34m)\u001b[0m\u001b[0;34m\u001b[0m\u001b[0;34m\u001b[0m\u001b[0m\n\u001b[0m\u001b[1;32m     76\u001b[0m \u001b[0;34m\u001b[0m\u001b[0m\n",
      "\u001b[0;32m~/Documents/software/anaconda/anaconda3/lib/python3.7/site-packages/pymilvus/client/abstract.py\u001b[0m in \u001b[0;36m__pack\u001b[0;34m(self, raw)\u001b[0m\n\u001b[1;32m     99\u001b[0m                 \u001b[0;32mif\u001b[0m \u001b[0mtype_param\u001b[0m\u001b[0;34m.\u001b[0m\u001b[0mkey\u001b[0m \u001b[0;32min\u001b[0m \u001b[0;34m[\u001b[0m\u001b[0;34m\"dim\"\u001b[0m\u001b[0;34m,\u001b[0m \u001b[0mConfig\u001b[0m\u001b[0;34m.\u001b[0m\u001b[0mMaxVarCharLengthKey\u001b[0m\u001b[0;34m]\u001b[0m\u001b[0;34m:\u001b[0m\u001b[0;34m\u001b[0m\u001b[0;34m\u001b[0m\u001b[0m\n\u001b[0;32m--> 100\u001b[0;31m                     \u001b[0mself\u001b[0m\u001b[0;34m.\u001b[0m\u001b[0mparams\u001b[0m\u001b[0;34m[\u001b[0m\u001b[0mtype_param\u001b[0m\u001b[0;34m.\u001b[0m\u001b[0mkey\u001b[0m\u001b[0;34m]\u001b[0m \u001b[0;34m=\u001b[0m \u001b[0mint\u001b[0m\u001b[0;34m(\u001b[0m\u001b[0mtype_param\u001b[0m\u001b[0;34m.\u001b[0m\u001b[0mvalue\u001b[0m\u001b[0;34m)\u001b[0m\u001b[0;34m\u001b[0m\u001b[0;34m\u001b[0m\u001b[0m\n\u001b[0m\u001b[1;32m    101\u001b[0m \u001b[0;34m\u001b[0m\u001b[0m\n",
      "\u001b[0;31mValueError\u001b[0m: invalid literal for int() with base 10: 'null'",
      "\nThe above exception was the direct cause of the following exception:\n",
      "\u001b[0;31mMilvusException\u001b[0m                           Traceback (most recent call last)",
      "\u001b[0;32m<ipython-input-147-275b3e431401>\u001b[0m in \u001b[0;36m<module>\u001b[0;34m\u001b[0m\n\u001b[1;32m      1\u001b[0m \u001b[0;31m#Insert data in collection\u001b[0m\u001b[0;34m\u001b[0m\u001b[0;34m\u001b[0m\u001b[0;34m\u001b[0m\u001b[0m\n\u001b[0;32m----> 2\u001b[0;31m \u001b[0mdemo_5\u001b[0m \u001b[0;34m=\u001b[0m \u001b[0mCollection\u001b[0m\u001b[0;34m(\u001b[0m\u001b[0;34m\"demo_5\"\u001b[0m\u001b[0;34m)\u001b[0m\u001b[0;34m\u001b[0m\u001b[0;34m\u001b[0m\u001b[0m\n\u001b[0m\u001b[1;32m      3\u001b[0m data = [\n\u001b[1;32m      4\u001b[0m \u001b[0;34m\u001b[0m\u001b[0m\n\u001b[1;32m      5\u001b[0m     \u001b[0;34m[\u001b[0m\u001b[0;34m'puppy'\u001b[0m\u001b[0;34m,\u001b[0m\u001b[0;34m'dog'\u001b[0m\u001b[0;34m,\u001b[0m\u001b[0;34m'king'\u001b[0m\u001b[0;34m,\u001b[0m\u001b[0;34m'queen'\u001b[0m\u001b[0;34m,\u001b[0m\u001b[0;34m'book'\u001b[0m\u001b[0;34m,\u001b[0m\u001b[0;34m'lion'\u001b[0m\u001b[0;34m,\u001b[0m\u001b[0;34m'jungle'\u001b[0m\u001b[0;34m,\u001b[0m\u001b[0;34m'tiger'\u001b[0m\u001b[0;34m,\u001b[0m\u001b[0;34m'study'\u001b[0m\u001b[0;34m]\u001b[0m\u001b[0;34m,\u001b[0m\u001b[0;34m\u001b[0m\u001b[0;34m\u001b[0m\u001b[0m\n",
      "\u001b[0;32m~/Documents/software/anaconda/anaconda3/lib/python3.7/site-packages/pymilvus/orm/collection.py\u001b[0m in \u001b[0;36m__init__\u001b[0;34m(self, name, schema, using, **kwargs)\u001b[0m\n\u001b[1;32m     98\u001b[0m         \u001b[0mhas\u001b[0m \u001b[0;34m=\u001b[0m \u001b[0mconn\u001b[0m\u001b[0;34m.\u001b[0m\u001b[0mhas_collection\u001b[0m\u001b[0;34m(\u001b[0m\u001b[0mself\u001b[0m\u001b[0;34m.\u001b[0m\u001b[0m_name\u001b[0m\u001b[0;34m,\u001b[0m \u001b[0;34m**\u001b[0m\u001b[0mkwargs\u001b[0m\u001b[0;34m)\u001b[0m\u001b[0;34m\u001b[0m\u001b[0;34m\u001b[0m\u001b[0m\n\u001b[1;32m     99\u001b[0m         \u001b[0;32mif\u001b[0m \u001b[0mhas\u001b[0m\u001b[0;34m:\u001b[0m\u001b[0;34m\u001b[0m\u001b[0;34m\u001b[0m\u001b[0m\n\u001b[0;32m--> 100\u001b[0;31m             \u001b[0mresp\u001b[0m \u001b[0;34m=\u001b[0m \u001b[0mconn\u001b[0m\u001b[0;34m.\u001b[0m\u001b[0mdescribe_collection\u001b[0m\u001b[0;34m(\u001b[0m\u001b[0mself\u001b[0m\u001b[0;34m.\u001b[0m\u001b[0m_name\u001b[0m\u001b[0;34m,\u001b[0m \u001b[0;34m**\u001b[0m\u001b[0mkwargs\u001b[0m\u001b[0;34m)\u001b[0m\u001b[0;34m\u001b[0m\u001b[0;34m\u001b[0m\u001b[0m\n\u001b[0m\u001b[1;32m    101\u001b[0m             \u001b[0ms_consistency_level\u001b[0m \u001b[0;34m=\u001b[0m \u001b[0mresp\u001b[0m\u001b[0;34m.\u001b[0m\u001b[0mget\u001b[0m\u001b[0;34m(\u001b[0m\u001b[0;34m\"consistency_level\"\u001b[0m\u001b[0;34m,\u001b[0m \u001b[0mDEFAULT_CONSISTENCY_LEVEL\u001b[0m\u001b[0;34m)\u001b[0m\u001b[0;34m\u001b[0m\u001b[0;34m\u001b[0m\u001b[0m\n\u001b[1;32m    102\u001b[0m             \u001b[0marg_consistency_level\u001b[0m \u001b[0;34m=\u001b[0m \u001b[0mkwargs\u001b[0m\u001b[0;34m.\u001b[0m\u001b[0mget\u001b[0m\u001b[0;34m(\u001b[0m\u001b[0;34m\"consistency_level\"\u001b[0m\u001b[0;34m,\u001b[0m \u001b[0ms_consistency_level\u001b[0m\u001b[0;34m)\u001b[0m\u001b[0;34m\u001b[0m\u001b[0;34m\u001b[0m\u001b[0m\n",
      "\u001b[0;32m~/Documents/software/anaconda/anaconda3/lib/python3.7/site-packages/pymilvus/decorators.py\u001b[0m in \u001b[0;36mhandler\u001b[0;34m(*args, **kwargs)\u001b[0m\n\u001b[1;32m    119\u001b[0m                 \u001b[0mrecord_dict\u001b[0m\u001b[0;34m[\u001b[0m\u001b[0;34m\"Exception\"\u001b[0m\u001b[0;34m]\u001b[0m \u001b[0;34m=\u001b[0m \u001b[0mstr\u001b[0m\u001b[0;34m(\u001b[0m\u001b[0mdatetime\u001b[0m\u001b[0;34m.\u001b[0m\u001b[0mdatetime\u001b[0m\u001b[0;34m.\u001b[0m\u001b[0mnow\u001b[0m\u001b[0;34m(\u001b[0m\u001b[0;34m)\u001b[0m\u001b[0;34m)\u001b[0m\u001b[0;34m\u001b[0m\u001b[0;34m\u001b[0m\u001b[0m\n\u001b[1;32m    120\u001b[0m                 \u001b[0mLOGGER\u001b[0m\u001b[0;34m.\u001b[0m\u001b[0merror\u001b[0m\u001b[0;34m(\u001b[0m\u001b[0;34mf\"Unexpected error: [{inner_name}], {e}, <Time: {record_dict}>\"\u001b[0m\u001b[0;34m)\u001b[0m\u001b[0;34m\u001b[0m\u001b[0;34m\u001b[0m\u001b[0m\n\u001b[0;32m--> 121\u001b[0;31m                 \u001b[0;32mraise\u001b[0m \u001b[0mMilvusException\u001b[0m\u001b[0;34m(\u001b[0m\u001b[0mmessage\u001b[0m\u001b[0;34m=\u001b[0m\u001b[0;34mf\"Unexpected error, message=<{str(e)}>\"\u001b[0m\u001b[0;34m)\u001b[0m \u001b[0;32mfrom\u001b[0m \u001b[0me\u001b[0m\u001b[0;34m\u001b[0m\u001b[0;34m\u001b[0m\u001b[0m\n\u001b[0m\u001b[1;32m    122\u001b[0m         \u001b[0;32mreturn\u001b[0m \u001b[0mhandler\u001b[0m\u001b[0;34m\u001b[0m\u001b[0;34m\u001b[0m\u001b[0m\n\u001b[1;32m    123\u001b[0m     \u001b[0;32mreturn\u001b[0m \u001b[0mwrapper\u001b[0m\u001b[0;34m\u001b[0m\u001b[0;34m\u001b[0m\u001b[0m\n",
      "\u001b[0;31mMilvusException\u001b[0m: <MilvusException: (code=1, message=Unexpected error, message=<invalid literal for int() with base 10: 'null'>)>"
     ]
    }
   ],
   "source": [
    "#Insert data in collection\n",
    "demo_5 = Collection(\"demo_5\")\n",
    "data = [\n",
    "    \n",
    "    ['puppy','dog','king','queen','book','lion','jungle','tiger','study'],  \n",
    "    [puppy, dog, king, queen, book, lion, jungle, tiger, study],  \n",
    "]\n",
    "\n",
    "insert_result = demo_5.insert(data)\n",
    "# After final entity is inserted, it is best to call flush to have no growing segments left in memory\n",
    "demo_5.flush() "
   ]
  },
  {
   "cell_type": "code",
   "execution_count": 146,
   "metadata": {},
   "outputs": [
    {
     "data": {
      "text/plain": [
       "<Collection>:\n",
       "-------------\n",
       "<name>: demo_3\n",
       "<description>: Simple Demo for storing and retrieve embedding from Google\n",
       "<schema>: {'auto_id': False, 'description': 'Simple Demo for storing and retrieve embedding from Google', 'fields': [{'name': 'pk', 'description': '', 'type': <DataType.INT64: 5>, 'is_primary': True, 'auto_id': False}, {'name': 'words', 'description': '', 'type': <DataType.VARCHAR: 21>, 'params': {'max_length': 50}}, {'name': 'embeddings', 'description': '', 'type': <DataType.FLOAT_VECTOR: 101>, 'params': {'dim': 300}}]}"
      ]
     },
     "execution_count": 146,
     "metadata": {},
     "output_type": "execute_result"
    }
   ],
   "source": [
    "demo_3"
   ]
  },
  {
   "cell_type": "code",
   "execution_count": null,
   "metadata": {},
   "outputs": [],
   "source": []
  }
 ],
 "metadata": {
  "kernelspec": {
   "display_name": "Python 3",
   "language": "python",
   "name": "python3"
  },
  "language_info": {
   "codemirror_mode": {
    "name": "ipython",
    "version": 3
   },
   "file_extension": ".py",
   "mimetype": "text/x-python",
   "name": "python",
   "nbconvert_exporter": "python",
   "pygments_lexer": "ipython3",
   "version": "3.7.4"
  }
 },
 "nbformat": 4,
 "nbformat_minor": 2
}
